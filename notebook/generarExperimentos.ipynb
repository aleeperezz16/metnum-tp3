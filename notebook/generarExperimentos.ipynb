{
 "cells": [
  {
   "attachments": {},
   "cell_type": "markdown",
   "metadata": {},
   "source": [
    "# Generar experimentos"
   ]
  },
  {
   "cell_type": "code",
   "execution_count": 1,
   "metadata": {},
   "outputs": [],
   "source": [
    "import os\n",
    "import numpy as np\n",
    "\n",
    "dir = \"../data\""
   ]
  },
  {
   "attachments": {},
   "cell_type": "markdown",
   "metadata": {},
   "source": [
    "## Funciones auxiliares"
   ]
  },
  {
   "cell_type": "code",
   "execution_count": 2,
   "metadata": {},
   "outputs": [],
   "source": [
    "def generar_sistema_edd(tam, sol, tipo):\n",
    "    A = np.random.randint(1, 40, (tam, tam))\n",
    "    suma = np.sum(np.abs(A), axis=1)\n",
    "    A += np.diag(suma)\n",
    "\n",
    "    b = A @ sol\n",
    "\n",
    "    if not os.path.exists(f\"{dir}/{tipo}\"):\n",
    "        os.makedirs(f\"{dir}/{tipo}\")\n",
    "\n",
    "    np.savetxt(f\"{dir}/{tipo}/matriz_edd_{tam}.txt\", np.hstack((A, b[:, np.newaxis])), \"%d\", \" \", comments=\"\", header=f\"{tam}\")\n",
    "\n",
    "def generar_sistema_simetrico(tam, sol, tipo):\n",
    "    A = np.random.randint(1, 40, (tam, tam))\n",
    "    A = A.T @ A\n",
    "\n",
    "    b = A @ sol\n",
    "\n",
    "    if not os.path.exists(f\"{dir}/{tipo}\"):\n",
    "        os.makedirs(f\"{dir}/{tipo}\")\n",
    "\n",
    "    np.savetxt(f\"{dir}/{tipo}/matriz_sim_{tam}.txt\", np.hstack((A, b[:, np.newaxis])), \"%d\", \" \", comments=\"\", header=f\"{tam}\")\n",
    "\n",
    "def generar_sistema_triangular(tam, sol, tipo):\n",
    "    A = np.tril(np.random.randint(1, 40, (tam, tam)))\n",
    "    b = A @ sol\n",
    "\n",
    "    if not os.path.exists(f\"{dir}/{tipo}\"):\n",
    "        os.makedirs(f\"{dir}/{tipo}\")\n",
    "\n",
    "    np.savetxt(f\"{dir}/{tipo}/matriz_triang_{tam}.txt\", np.hstack((A, b[:, np.newaxis])), \"%d\", \" \", comments=\"\", header=f\"{tam}\")\n",
    "\n",
    "def crear_archivos(n, low, high, tipo):\n",
    "    for i in range(2, n + 1):\n",
    "        tam = 2 ** i\n",
    "        x = np.random.randint(low, high, tam)\n",
    "        \n",
    "        generar_sistema_edd(tam, x, tipo)\n",
    "        generar_sistema_simetrico(tam, x, tipo)\n",
    "        generar_sistema_triangular(tam, x, tipo)\n",
    "\n",
    "        np.savetxt(f\"{dir}/{tipo}/vector_x_{tam}.txt\", x, \"%d\", \" \")"
   ]
  },
  {
   "attachments": {},
   "cell_type": "markdown",
   "metadata": {},
   "source": [
    "## Generar instancias"
   ]
  },
  {
   "cell_type": "code",
   "execution_count": 3,
   "metadata": {},
   "outputs": [],
   "source": [
    "n = 8\n",
    "\n",
    "crear_archivos(n, 0, 10, \"chico\")\n",
    "crear_archivos(n, 50, 100, \"mediano\")\n",
    "crear_archivos(n, 200, 300, \"grande\")"
   ]
  }
 ],
 "metadata": {
  "kernelspec": {
   "display_name": "Python 3",
   "language": "python",
   "name": "python3"
  },
  "language_info": {
   "codemirror_mode": {
    "name": "ipython",
    "version": 3
   },
   "file_extension": ".py",
   "mimetype": "text/x-python",
   "name": "python",
   "nbconvert_exporter": "python",
   "pygments_lexer": "ipython3",
   "version": "3.11.4"
  },
  "orig_nbformat": 4
 },
 "nbformat": 4,
 "nbformat_minor": 2
}
