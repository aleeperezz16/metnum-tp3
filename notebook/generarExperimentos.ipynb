{
 "cells": [
  {
   "attachments": {},
   "cell_type": "markdown",
   "metadata": {},
   "source": [
    "# Generar experimentos"
   ]
  },
  {
   "cell_type": "code",
   "execution_count": 2,
   "metadata": {},
   "outputs": [],
   "source": [
    "import os\n",
    "import numpy as np\n",
    "\n",
    "dir = \"../data/sistemas\"\n",
    "\n",
    "if not os.path.exists(dir):\n",
    "    os.makedirs(dir)"
   ]
  },
  {
   "attachments": {},
   "cell_type": "markdown",
   "metadata": {},
   "source": [
    "## Funciones auxiliares"
   ]
  },
  {
   "cell_type": "code",
   "execution_count": 3,
   "metadata": {},
   "outputs": [],
   "source": [
    "def generar_sistema(tam, sol, low, high):\n",
    "    A = np.random.randint(low, high, (tam, tam))\n",
    "    suma = np.sum(np.abs(A), axis=1)\n",
    "    A += np.diag(suma)\n",
    "\n",
    "    b = A @ sol\n",
    "    np.savetxt(os.path.join(dir, f\"sistema_{tam}.txt\"), np.hstack((A, b[:, np.newaxis])), \"%d\", \" \", comments=\"\", header=f\"{tam}\")\n",
    "\n",
    "def crear_archivos(n, low, high):\n",
    "    for i in range(2, n + 1):\n",
    "        tam = 2 ** i\n",
    "        x = np.random.randint(low, high, tam)\n",
    "        \n",
    "        generar_sistema(tam, x, low, high)\n",
    "        np.savetxt(os.path.join(dir, f\"x_{tam}.txt\"), x, \"%d\", \" \")"
   ]
  },
  {
   "attachments": {},
   "cell_type": "markdown",
   "metadata": {},
   "source": [
    "## Generar instancias"
   ]
  },
  {
   "cell_type": "code",
   "execution_count": 6,
   "metadata": {},
   "outputs": [],
   "source": [
    "crear_archivos(11, 1, 10)"
   ]
  },
  {
   "cell_type": "code",
   "execution_count": null,
   "metadata": {},
   "outputs": [],
   "source": []
  }
 ],
 "metadata": {
  "kernelspec": {
   "display_name": "Python 3",
   "language": "python",
   "name": "python3"
  },
  "language_info": {
   "codemirror_mode": {
    "name": "ipython",
    "version": 3
   },
   "file_extension": ".py",
   "mimetype": "text/x-python",
   "name": "python",
   "nbconvert_exporter": "python",
   "pygments_lexer": "ipython3",
   "version": "3.11.2"
  },
  "orig_nbformat": 4
 },
 "nbformat": 4,
 "nbformat_minor": 2
}
