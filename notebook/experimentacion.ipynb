{
 "cells": [
  {
   "attachments": {},
   "cell_type": "markdown",
   "metadata": {},
   "source": [
    "# Experimentación métodos iterativos"
   ]
  },
  {
   "cell_type": "code",
   "execution_count": null,
   "metadata": {},
   "outputs": [],
   "source": [
    "import numpy as np\n",
    "import subprocess as sp\n",
    "import json\n",
    "\n",
    "dir = \"../data\""
   ]
  },
  {
   "attachments": {},
   "cell_type": "markdown",
   "metadata": {},
   "source": [
    "## Funciones auxiliares"
   ]
  },
  {
   "cell_type": "code",
   "execution_count": null,
   "metadata": {},
   "outputs": [],
   "source": [
    "n = 8\n",
    "\n",
    "def correr_algoritmo(dataset, tipo, tam, metodo, iteraciones=0, tol=0):        \n",
    "    proceso = sp.run([\"../src/iterativo\", f\"{dir}/{dataset}/matriz_{tipo}_{tam}.txt\", metodo, str(iteraciones), str(tol)], capture_output=True, text=True)\n",
    "    proceso.check_returncode()\n",
    "\n",
    "    return np.array(proceso.stdout.split(\" \"), dtype=np.float64)\n",
    "\n",
    "def cargar_soluciones(tipo, xs):\n",
    "    for i in range(2, n + 1):\n",
    "        tam = 2 ** i\n",
    "        xs.append(np.genfromtxt(f\"{dir}/{tipo}/vector_x_{tam}.txt\"))\n",
    "\n",
    "def cargar_soluciones_metodos(metodo):\n",
    "    with open(f\"{dir}/resultados_{metodo}.json\", \"r\") as input:\n",
    "        return json.load(input)\n",
    "    \n",
    "def guardar_resultados(data, nombre_archivo):\n",
    "    with open(f\"{dir}/{nombre_archivo}.json\", \"w\") as output:\n",
    "        json.dump(data, output)"
   ]
  },
  {
   "attachments": {},
   "cell_type": "markdown",
   "metadata": {},
   "source": [
    "## Correr experimentos"
   ]
  },
  {
   "cell_type": "code",
   "execution_count": null,
   "metadata": {},
   "outputs": [],
   "source": [
    "max_iter = 150\n",
    "step = 10\n",
    "tolerancia = 1e-10\n",
    "\n",
    "datasets = [\"chico\", \"mediano\", \"grande\"]\n",
    "tipos = [\"edd\", \"sim\", \"triang\"]"
   ]
  },
  {
   "attachments": {},
   "cell_type": "markdown",
   "metadata": {},
   "source": [
    "## Soluciones de los métodos"
   ]
  },
  {
   "attachments": {},
   "cell_type": "markdown",
   "metadata": {},
   "source": [
    "### Jacobi"
   ]
  },
  {
   "cell_type": "code",
   "execution_count": null,
   "metadata": {},
   "outputs": [],
   "source": [
    "resultados_jacobi = {}\n",
    "for ds in datasets:\n",
    "    resultados_jacobi[f\"{ds}\"] = {}\n",
    "    for tipo in tipos:\n",
    "        resultados_jacobi[f\"{ds}\"][f\"{tipo}\"] = []\n",
    "        for i in range(2, n + 1):\n",
    "            for j in range(1, max_iter + 1, step):\n",
    "                res = correr_algoritmo(ds, tipo, 2 ** i, \"J\", j, tolerancia)\n",
    "                resultados_jacobi[f\"{ds}\"][f\"{tipo}\"].append(res.tolist())"
   ]
  },
  {
   "cell_type": "code",
   "execution_count": null,
   "metadata": {},
   "outputs": [],
   "source": [
    "guardar_resultados(resultados_jacobi, \"resultados_jacobi\")"
   ]
  },
  {
   "attachments": {},
   "cell_type": "markdown",
   "metadata": {},
   "source": [
    "### Jacobi Sumatoria"
   ]
  },
  {
   "cell_type": "code",
   "execution_count": null,
   "metadata": {},
   "outputs": [],
   "source": [
    "resultados_jacobi_sum = {}\n",
    "for ds in datasets:\n",
    "    resultados_jacobi_sum[f\"{ds}\"] = {}\n",
    "    for tipo in tipos:\n",
    "        resultados_jacobi_sum[f\"{ds}\"][f\"{tipo}\"] = []\n",
    "        for i in range(2, n + 1):\n",
    "            for j in range(1, max_iter + 1, step):\n",
    "                res = correr_algoritmo(ds, tipo, 2 ** i, \"JS\", j, tolerancia)\n",
    "                resultados_jacobi_sum[f\"{ds}\"][f\"{tipo}\"].append(res.tolist())"
   ]
  },
  {
   "cell_type": "code",
   "execution_count": null,
   "metadata": {},
   "outputs": [],
   "source": [
    "guardar_resultados(resultados_jacobi_sum, \"resultados_jacobi_sum\")"
   ]
  },
  {
   "attachments": {},
   "cell_type": "markdown",
   "metadata": {},
   "source": [
    "### Gauss Seidel"
   ]
  },
  {
   "cell_type": "code",
   "execution_count": null,
   "metadata": {},
   "outputs": [],
   "source": [
    "resultados_gs = {}\n",
    "for ds in datasets:\n",
    "    resultados_gs[f\"{ds}\"] = {}\n",
    "    for tipo in tipos:\n",
    "        resultados_gs[f\"{ds}\"][f\"{tipo}\"] = []\n",
    "        for i in range(2, n + 1):\n",
    "            for j in range(1, max_iter + 1, step):\n",
    "                res = correr_algoritmo(ds, tipo, 2 ** i, \"GS\", j, tolerancia)\n",
    "                resultados_gs[f\"{ds}\"][f\"{tipo}\"].append(res.tolist())"
   ]
  },
  {
   "cell_type": "code",
   "execution_count": null,
   "metadata": {},
   "outputs": [],
   "source": [
    "guardar_resultados(resultados_gs, \"resultados_gauss_seidel\")"
   ]
  },
  {
   "attachments": {},
   "cell_type": "markdown",
   "metadata": {},
   "source": [
    "### Gauss Seidel Sumatoria"
   ]
  },
  {
   "cell_type": "code",
   "execution_count": null,
   "metadata": {},
   "outputs": [],
   "source": [
    "resultados_gs_sum = {}\n",
    "for ds in datasets:\n",
    "    resultados_gs_sum[f\"{ds}\"] = {}\n",
    "    for tipo in tipos:\n",
    "        resultados_gs_sum[f\"{ds}\"][f\"{tipo}\"] = []\n",
    "        for i in range(2, n + 1):\n",
    "            for j in range(1, max_iter + 1, step):\n",
    "                res = correr_algoritmo(ds, tipo, 2 ** i, \"GSS\", j, tolerancia)\n",
    "                resultados_gs_sum[f\"{ds}\"][f\"{tipo}\"].append(res.tolist())"
   ]
  },
  {
   "cell_type": "code",
   "execution_count": null,
   "metadata": {},
   "outputs": [],
   "source": [
    "guardar_resultados(resultados_gs_sum, \"resultados_gauss_seidel_sum\")"
   ]
  },
  {
   "attachments": {},
   "cell_type": "markdown",
   "metadata": {},
   "source": [
    "### LU"
   ]
  },
  {
   "cell_type": "code",
   "execution_count": null,
   "metadata": {},
   "outputs": [],
   "source": [
    "resultados_lu = {}\n",
    "for ds in datasets:\n",
    "    resultados_lu[f\"{ds}\"] = {}\n",
    "    for tipo in tipos:\n",
    "        resultados_lu[f\"{ds}\"][f\"{tipo}\"] = []\n",
    "        for i in range(2, n + 1):\n",
    "            res = correr_algoritmo(ds, tipo, 2 ** i, \"LU\")\n",
    "            resultados_lu[f\"{ds}\"][f\"{tipo}\"].append(res.tolist())"
   ]
  },
  {
   "cell_type": "code",
   "execution_count": null,
   "metadata": {},
   "outputs": [],
   "source": [
    "guardar_resultados(resultados_lu, \"resultados_lu\")"
   ]
  },
  {
   "attachments": {},
   "cell_type": "markdown",
   "metadata": {},
   "source": [
    "## Cargar vectores solución"
   ]
  },
  {
   "cell_type": "code",
   "execution_count": null,
   "metadata": {},
   "outputs": [],
   "source": [
    "xs_chico = []\n",
    "xs_mediano = []\n",
    "xs_grande = []\n",
    "\n",
    "cargar_soluciones(\"chico\", xs_chico)\n",
    "cargar_soluciones(\"mediano\", xs_mediano)\n",
    "cargar_soluciones(\"grande\", xs_grande)"
   ]
  },
  {
   "attachments": {},
   "cell_type": "markdown",
   "metadata": {},
   "source": [
    "## Cargar soluciones métodos"
   ]
  },
  {
   "cell_type": "code",
   "execution_count": null,
   "metadata": {},
   "outputs": [],
   "source": [
    "sol_j = cargar_soluciones_metodos(\"jacobi\")\n",
    "sol_js = cargar_soluciones_metodos(\"jacobi_sum\")\n",
    "sol_gs = cargar_soluciones_metodos(\"gauss_seidel\")\n",
    "sol_gss = cargar_soluciones_metodos(\"gauss_seidel_sum\")\n",
    "sol_lu = cargar_soluciones_metodos(\"lu\")"
   ]
  },
  {
   "attachments": {},
   "cell_type": "markdown",
   "metadata": {},
   "source": [
    "## Generación de Gráficos"
   ]
  },
  {
   "attachments": {},
   "cell_type": "markdown",
   "metadata": {},
   "source": [
    "### Error"
   ]
  },
  {
   "cell_type": "code",
   "execution_count": null,
   "metadata": {},
   "outputs": [],
   "source": [
    "errores = {}\n",
    "offset = (max_iter + 1) // step \n",
    "for tipo in sol_j[\"chico\"].values():\n",
    "    j = 0\n",
    "    for solucion in xs_chico:\n",
    "        n = len(solucion)\n",
    "        errores[f\"{n}\"] = []\n",
    "        for i in range((max_iter + 1) // step):\n",
    "            errores[f\"{n}\"].append(np.linalg.norm(solucion - np.array(tipo[i + j * offset], dtype=np.float64)))\n",
    "        j += 1\n",
    "\n",
    "errores"
   ]
  },
  {
   "attachments": {},
   "cell_type": "markdown",
   "metadata": {},
   "source": [
    "### Tiempo de cómputo"
   ]
  },
  {
   "attachments": {},
   "cell_type": "markdown",
   "metadata": {},
   "source": [
    "### LU"
   ]
  },
  {
   "attachments": {},
   "cell_type": "markdown",
   "metadata": {},
   "source": [
    "### LU vs Métodos Iterativos"
   ]
  },
  {
   "attachments": {},
   "cell_type": "markdown",
   "metadata": {},
   "source": [
    "- Error de aproximacion entre valor actual y final (por cantidad de iteraciones) para matrices de diferentes tamaños\n",
    "- Tiempo final de computo por iteraciones y por tamaño de matrices\n",
    "- LU tiempo de computo por tamaño de matriz. Error numerico (comparar con x real).\n",
    "- Comparar LU con todos los metodos iterativos."
   ]
  }
 ],
 "metadata": {
  "kernelspec": {
   "display_name": "Python 3",
   "language": "python",
   "name": "python3"
  },
  "language_info": {
   "codemirror_mode": {
    "name": "ipython",
    "version": 3
   },
   "file_extension": ".py",
   "mimetype": "text/x-python",
   "name": "python",
   "nbconvert_exporter": "python",
   "pygments_lexer": "ipython3",
   "version": "3.11.4"
  },
  "orig_nbformat": 4
 },
 "nbformat": 4,
 "nbformat_minor": 2
}
