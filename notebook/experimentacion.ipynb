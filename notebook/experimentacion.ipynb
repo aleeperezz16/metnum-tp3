{
 "cells": [
  {
   "attachments": {},
   "cell_type": "markdown",
   "metadata": {},
   "source": [
    "# Experimentación métodos iterativos"
   ]
  },
  {
   "cell_type": "code",
   "execution_count": null,
   "metadata": {},
   "outputs": [],
   "source": []
  },
  {
   "cell_type": "code",
   "execution_count": 2,
   "metadata": {},
   "outputs": [],
   "source": [
    "import os\n",
    "import numpy as np\n",
    "import subprocess as sp"
   ]
  },
  {
   "cell_type": "code",
   "execution_count": 3,
   "metadata": {},
   "outputs": [],
   "source": [
    "dir = \"../data\""
   ]
  },
  {
   "attachments": {},
   "cell_type": "markdown",
   "metadata": {},
   "source": [
    "## Funciones auxiliares"
   ]
  },
  {
   "cell_type": "code",
   "execution_count": 4,
   "metadata": {},
   "outputs": [],
   "source": [
    "def generar_sistema_edd(tam, sol, tipo):\n",
    "    A = np.random.randint(1, 40, (tam, tam))\n",
    "    suma = np.sum(np.abs(A), axis=1)\n",
    "    A += np.diag(suma)\n",
    "\n",
    "    b = A @ sol\n",
    "\n",
    "    if not os.path.exists(f\"{dir}/{tipo}\"):\n",
    "        os.makedirs(f\"{dir}/{tipo}\")\n",
    "\n",
    "    np.savetxt(f\"{dir}/{tipo}/matriz_edd_{tam}.txt\", np.hstack((A, b[:, np.newaxis])), \"%d\", \" \", comments=\"\", header=f\"{tam}\")\n",
    "\n",
    "def generar_sistema_simetrico(tam, sol, tipo):\n",
    "    A = np.random.randint(1, 40, (tam, tam))\n",
    "    A = A.T @ A\n",
    "\n",
    "    b = A @ sol\n",
    "\n",
    "    if not os.path.exists(f\"{dir}/{tipo}\"):\n",
    "        os.makedirs(f\"{dir}/{tipo}\")\n",
    "\n",
    "    np.savetxt(f\"{dir}/{tipo}/matriz_sim_{tam}.txt\", np.hstack((A, b[:, np.newaxis])), \"%d\", \" \", comments=\"\", header=f\"{tam}\")\n",
    "\n",
    "def generar_sistema_triangular(tam, sol, tipo):\n",
    "    A = np.tril(np.random.randint(1, 40, (tam, tam)))\n",
    "    b = A @ sol\n",
    "\n",
    "    if not os.path.exists(f\"{dir}/{tipo}\"):\n",
    "        os.makedirs(f\"{dir}/{tipo}\")\n",
    "\n",
    "    np.savetxt(f\"{dir}/{tipo}/matriz_triang_{tam}.txt\", np.hstack((A, b[:, np.newaxis])), \"%d\", \" \", comments=\"\", header=f\"{tam}\")"
   ]
  },
  {
   "cell_type": "code",
   "execution_count": 5,
   "metadata": {},
   "outputs": [],
   "source": [
    "def correr_algoritmo(dataset, tipo, tam, metodo, iteraciones, tol):        \n",
    "    proceso = sp.run([\"../src/iterativo\", f\"{dir}/{dataset}/matriz_{tipo}_{tam}.txt\", metodo, str(iteraciones), str(tol)], capture_output=True, text=True)\n",
    "    proceso.check_returncode()\n",
    "\n",
    "    return np.array(proceso.stdout.split(\" \"), dtype=np.float64)\n"
   ]
  },
  {
   "cell_type": "code",
   "execution_count": 6,
   "metadata": {},
   "outputs": [],
   "source": [
    "def crear_archivos(n, low, high, tipo):\n",
    "    for i in range(2, n + 1):\n",
    "        tam = 2 ** i\n",
    "        x = np.random.randint(low, high, tam)\n",
    "        \n",
    "        generar_sistema_edd(tam, x, tipo)\n",
    "        generar_sistema_simetrico(tam, x, tipo)\n",
    "        generar_sistema_triangular(tam, x, tipo)\n",
    "\n",
    "        np.savetxt(f\"{dir}/{tipo}/vector_x_{tam}.txt\", x, \"%d\", \" \")"
   ]
  },
  {
   "attachments": {},
   "cell_type": "markdown",
   "metadata": {},
   "source": [
    "## Generar instancias"
   ]
  },
  {
   "cell_type": "code",
   "execution_count": 7,
   "metadata": {},
   "outputs": [],
   "source": [
    "n = 8"
   ]
  },
  {
   "attachments": {},
   "cell_type": "markdown",
   "metadata": {},
   "source": [
    "### Vector solucion chico"
   ]
  },
  {
   "cell_type": "code",
   "execution_count": 8,
   "metadata": {},
   "outputs": [],
   "source": [
    "crear_archivos(n, 0, 10, \"chico\")"
   ]
  },
  {
   "attachments": {},
   "cell_type": "markdown",
   "metadata": {},
   "source": [
    "### Vector solucion mediano"
   ]
  },
  {
   "cell_type": "code",
   "execution_count": 9,
   "metadata": {},
   "outputs": [],
   "source": [
    "crear_archivos(n, 50, 100, \"mediano\")"
   ]
  },
  {
   "attachments": {},
   "cell_type": "markdown",
   "metadata": {},
   "source": [
    "### Vector solucion grande"
   ]
  },
  {
   "cell_type": "code",
   "execution_count": 10,
   "metadata": {},
   "outputs": [],
   "source": [
    "crear_archivos(n, 200, 300, \"grande\")"
   ]
  },
  {
   "attachments": {},
   "cell_type": "markdown",
   "metadata": {},
   "source": [
    "## Correr algoritmos"
   ]
  },
  {
   "cell_type": "code",
   "execution_count": 11,
   "metadata": {},
   "outputs": [],
   "source": [
    "# res = []\n",
    "# correr_algoritmo(\"chico\", \"LU\", 1000, 1e-20)"
   ]
  },
  {
   "attachments": {},
   "cell_type": "markdown",
   "metadata": {},
   "source": [
    "-Error de aproximacion entre valor actual y final (por cantidad de iteraciones) para matrices de diferentes tamaños\n",
    "-Tiempo final de computo por iteraciones y por tamaño de matrices\n",
    "-LU tiempo de computo por tamaño de matriz. Error numerico (comparar con x real).\n",
    "-Comparar LU con todos los metodos iterativos."
   ]
  },
  {
   "attachments": {},
   "cell_type": "markdown",
   "metadata": {},
   "source": [
    "## Generación de Gráficos"
   ]
  },
  {
   "attachments": {},
   "cell_type": "markdown",
   "metadata": {},
   "source": [
    "### Error"
   ]
  },
  {
   "cell_type": "code",
   "execution_count": 12,
   "metadata": {},
   "outputs": [],
   "source": [
    "def cargar_soluciones(tipo):\n",
    "    for i in range(2, n + 1):\n",
    "        tam = 2 ** i\n",
    "        xs.append(np.genfromtxt(f\"{dir}/{tipo}/vector_x_{tam}.txt\"))"
   ]
  },
  {
   "cell_type": "code",
   "execution_count": 15,
   "metadata": {},
   "outputs": [
    {
     "name": "stdout",
     "output_type": "stream",
     "text": [
      "1.89 ms ± 297 µs per loop (mean ± std. dev. of 5 runs, 100 loops each)\n",
      "<class 'IPython.core.magics.execution.TimeitResult'>\n",
      "1.85 ms ± 116 µs per loop (mean ± std. dev. of 5 runs, 1,000 loops each)\n",
      "<class 'IPython.core.magics.execution.TimeitResult'>\n",
      "1.88 ms ± 139 µs per loop (mean ± std. dev. of 5 runs, 100 loops each)\n",
      "<class 'IPython.core.magics.execution.TimeitResult'>\n"
     ]
    },
    {
     "ename": "KeyboardInterrupt",
     "evalue": "",
     "output_type": "error",
     "traceback": [
      "\u001b[0;31m---------------------------------------------------------------------------\u001b[0m",
      "\u001b[0;31mKeyboardInterrupt\u001b[0m                         Traceback (most recent call last)",
      "Cell \u001b[0;32mIn[15], line 17\u001b[0m\n\u001b[1;32m     14\u001b[0m \u001b[39mfor\u001b[39;00m i \u001b[39min\u001b[39;00m \u001b[39mrange\u001b[39m(\u001b[39m2\u001b[39m, n \u001b[39m+\u001b[39m \u001b[39m1\u001b[39m):\n\u001b[1;32m     15\u001b[0m     \u001b[39mfor\u001b[39;00m j \u001b[39min\u001b[39;00m \u001b[39mrange\u001b[39m(\u001b[39m1\u001b[39m, max_iter \u001b[39m+\u001b[39m \u001b[39m1\u001b[39m, step):\n\u001b[1;32m     16\u001b[0m         \u001b[39m# Aca va el timeit\u001b[39;00m\n\u001b[0;32m---> 17\u001b[0m         t \u001b[39m=\u001b[39m get_ipython()\u001b[39m.\u001b[39;49mrun_line_magic(\u001b[39m'\u001b[39;49m\u001b[39mtimeit\u001b[39;49m\u001b[39m'\u001b[39;49m, \u001b[39m'\u001b[39;49m\u001b[39m-r 5 -o correr_algoritmo(ds, tipo, 2 ** i, algoritmo, j, tolerancia)\u001b[39;49m\u001b[39m'\u001b[39;49m)\n\u001b[1;32m     18\u001b[0m         \u001b[39mprint\u001b[39m(\u001b[39mtype\u001b[39m(t))\n\u001b[1;32m     19\u001b[0m         res \u001b[39m=\u001b[39m correr_algoritmo(ds, tipo, \u001b[39m2\u001b[39m \u001b[39m*\u001b[39m\u001b[39m*\u001b[39m i, algoritmo, j, tolerancia)\n",
      "File \u001b[0;32m~/.local/lib/python3.11/site-packages/IPython/core/interactiveshell.py:2417\u001b[0m, in \u001b[0;36mInteractiveShell.run_line_magic\u001b[0;34m(self, magic_name, line, _stack_depth)\u001b[0m\n\u001b[1;32m   2415\u001b[0m     kwargs[\u001b[39m'\u001b[39m\u001b[39mlocal_ns\u001b[39m\u001b[39m'\u001b[39m] \u001b[39m=\u001b[39m \u001b[39mself\u001b[39m\u001b[39m.\u001b[39mget_local_scope(stack_depth)\n\u001b[1;32m   2416\u001b[0m \u001b[39mwith\u001b[39;00m \u001b[39mself\u001b[39m\u001b[39m.\u001b[39mbuiltin_trap:\n\u001b[0;32m-> 2417\u001b[0m     result \u001b[39m=\u001b[39m fn(\u001b[39m*\u001b[39;49margs, \u001b[39m*\u001b[39;49m\u001b[39m*\u001b[39;49mkwargs)\n\u001b[1;32m   2419\u001b[0m \u001b[39m# The code below prevents the output from being displayed\u001b[39;00m\n\u001b[1;32m   2420\u001b[0m \u001b[39m# when using magics with decodator @output_can_be_silenced\u001b[39;00m\n\u001b[1;32m   2421\u001b[0m \u001b[39m# when the last Python token in the expression is a ';'.\u001b[39;00m\n\u001b[1;32m   2422\u001b[0m \u001b[39mif\u001b[39;00m \u001b[39mgetattr\u001b[39m(fn, magic\u001b[39m.\u001b[39mMAGIC_OUTPUT_CAN_BE_SILENCED, \u001b[39mFalse\u001b[39;00m):\n",
      "File \u001b[0;32m~/.local/lib/python3.11/site-packages/IPython/core/magics/execution.py:1170\u001b[0m, in \u001b[0;36mExecutionMagics.timeit\u001b[0;34m(self, line, cell, local_ns)\u001b[0m\n\u001b[1;32m   1168\u001b[0m \u001b[39mfor\u001b[39;00m index \u001b[39min\u001b[39;00m \u001b[39mrange\u001b[39m(\u001b[39m0\u001b[39m, \u001b[39m10\u001b[39m):\n\u001b[1;32m   1169\u001b[0m     number \u001b[39m=\u001b[39m \u001b[39m10\u001b[39m \u001b[39m*\u001b[39m\u001b[39m*\u001b[39m index\n\u001b[0;32m-> 1170\u001b[0m     time_number \u001b[39m=\u001b[39m timer\u001b[39m.\u001b[39;49mtimeit(number)\n\u001b[1;32m   1171\u001b[0m     \u001b[39mif\u001b[39;00m time_number \u001b[39m>\u001b[39m\u001b[39m=\u001b[39m \u001b[39m0.2\u001b[39m:\n\u001b[1;32m   1172\u001b[0m         \u001b[39mbreak\u001b[39;00m\n",
      "File \u001b[0;32m~/.local/lib/python3.11/site-packages/IPython/core/magics/execution.py:158\u001b[0m, in \u001b[0;36mTimer.timeit\u001b[0;34m(self, number)\u001b[0m\n\u001b[1;32m    156\u001b[0m gc\u001b[39m.\u001b[39mdisable()\n\u001b[1;32m    157\u001b[0m \u001b[39mtry\u001b[39;00m:\n\u001b[0;32m--> 158\u001b[0m     timing \u001b[39m=\u001b[39m \u001b[39mself\u001b[39;49m\u001b[39m.\u001b[39;49minner(it, \u001b[39mself\u001b[39;49m\u001b[39m.\u001b[39;49mtimer)\n\u001b[1;32m    159\u001b[0m \u001b[39mfinally\u001b[39;00m:\n\u001b[1;32m    160\u001b[0m     \u001b[39mif\u001b[39;00m gcold:\n",
      "File \u001b[0;32m<magic-timeit>:1\u001b[0m, in \u001b[0;36minner\u001b[0;34m(_it, _timer)\u001b[0m\n",
      "Cell \u001b[0;32mIn[5], line 2\u001b[0m, in \u001b[0;36mcorrer_algoritmo\u001b[0;34m(dataset, tipo, tam, metodo, iteraciones, tol)\u001b[0m\n\u001b[1;32m      1\u001b[0m \u001b[39mdef\u001b[39;00m \u001b[39mcorrer_algoritmo\u001b[39m(dataset, tipo, tam, metodo, iteraciones, tol):        \n\u001b[0;32m----> 2\u001b[0m     proceso \u001b[39m=\u001b[39m sp\u001b[39m.\u001b[39;49mrun([\u001b[39m\"\u001b[39;49m\u001b[39m../src/iterativo\u001b[39;49m\u001b[39m\"\u001b[39;49m, \u001b[39mf\u001b[39;49m\u001b[39m\"\u001b[39;49m\u001b[39m{\u001b[39;49;00m\u001b[39mdir\u001b[39;49m\u001b[39m}\u001b[39;49;00m\u001b[39m/\u001b[39;49m\u001b[39m{\u001b[39;49;00mdataset\u001b[39m}\u001b[39;49;00m\u001b[39m/matriz_\u001b[39;49m\u001b[39m{\u001b[39;49;00mtipo\u001b[39m}\u001b[39;49;00m\u001b[39m_\u001b[39;49m\u001b[39m{\u001b[39;49;00mtam\u001b[39m}\u001b[39;49;00m\u001b[39m.txt\u001b[39;49m\u001b[39m\"\u001b[39;49m, metodo, \u001b[39mstr\u001b[39;49m(iteraciones), \u001b[39mstr\u001b[39;49m(tol)], capture_output\u001b[39m=\u001b[39;49m\u001b[39mTrue\u001b[39;49;00m, text\u001b[39m=\u001b[39;49m\u001b[39mTrue\u001b[39;49;00m)\n\u001b[1;32m      3\u001b[0m     proceso\u001b[39m.\u001b[39mcheck_returncode()\n\u001b[1;32m      5\u001b[0m     \u001b[39mreturn\u001b[39;00m np\u001b[39m.\u001b[39marray(proceso\u001b[39m.\u001b[39mstdout\u001b[39m.\u001b[39msplit(\u001b[39m\"\u001b[39m\u001b[39m \u001b[39m\u001b[39m\"\u001b[39m), dtype\u001b[39m=\u001b[39mnp\u001b[39m.\u001b[39mfloat64)\n",
      "File \u001b[0;32m/usr/lib64/python3.11/subprocess.py:550\u001b[0m, in \u001b[0;36mrun\u001b[0;34m(input, capture_output, timeout, check, *popenargs, **kwargs)\u001b[0m\n\u001b[1;32m    548\u001b[0m \u001b[39mwith\u001b[39;00m Popen(\u001b[39m*\u001b[39mpopenargs, \u001b[39m*\u001b[39m\u001b[39m*\u001b[39mkwargs) \u001b[39mas\u001b[39;00m process:\n\u001b[1;32m    549\u001b[0m     \u001b[39mtry\u001b[39;00m:\n\u001b[0;32m--> 550\u001b[0m         stdout, stderr \u001b[39m=\u001b[39m process\u001b[39m.\u001b[39;49mcommunicate(\u001b[39minput\u001b[39;49m, timeout\u001b[39m=\u001b[39;49mtimeout)\n\u001b[1;32m    551\u001b[0m     \u001b[39mexcept\u001b[39;00m TimeoutExpired \u001b[39mas\u001b[39;00m exc:\n\u001b[1;32m    552\u001b[0m         process\u001b[39m.\u001b[39mkill()\n",
      "File \u001b[0;32m/usr/lib64/python3.11/subprocess.py:1209\u001b[0m, in \u001b[0;36mPopen.communicate\u001b[0;34m(self, input, timeout)\u001b[0m\n\u001b[1;32m   1206\u001b[0m     endtime \u001b[39m=\u001b[39m \u001b[39mNone\u001b[39;00m\n\u001b[1;32m   1208\u001b[0m \u001b[39mtry\u001b[39;00m:\n\u001b[0;32m-> 1209\u001b[0m     stdout, stderr \u001b[39m=\u001b[39m \u001b[39mself\u001b[39;49m\u001b[39m.\u001b[39;49m_communicate(\u001b[39minput\u001b[39;49m, endtime, timeout)\n\u001b[1;32m   1210\u001b[0m \u001b[39mexcept\u001b[39;00m \u001b[39mKeyboardInterrupt\u001b[39;00m:\n\u001b[1;32m   1211\u001b[0m     \u001b[39m# https://bugs.python.org/issue25942\u001b[39;00m\n\u001b[1;32m   1212\u001b[0m     \u001b[39m# See the detailed comment in .wait().\u001b[39;00m\n\u001b[1;32m   1213\u001b[0m     \u001b[39mif\u001b[39;00m timeout \u001b[39mis\u001b[39;00m \u001b[39mnot\u001b[39;00m \u001b[39mNone\u001b[39;00m:\n",
      "File \u001b[0;32m/usr/lib64/python3.11/subprocess.py:2108\u001b[0m, in \u001b[0;36mPopen._communicate\u001b[0;34m(self, input, endtime, orig_timeout)\u001b[0m\n\u001b[1;32m   2101\u001b[0m     \u001b[39mself\u001b[39m\u001b[39m.\u001b[39m_check_timeout(endtime, orig_timeout,\n\u001b[1;32m   2102\u001b[0m                         stdout, stderr,\n\u001b[1;32m   2103\u001b[0m                         skip_check_and_raise\u001b[39m=\u001b[39m\u001b[39mTrue\u001b[39;00m)\n\u001b[1;32m   2104\u001b[0m     \u001b[39mraise\u001b[39;00m \u001b[39mRuntimeError\u001b[39;00m(  \u001b[39m# Impossible :)\u001b[39;00m\n\u001b[1;32m   2105\u001b[0m         \u001b[39m'\u001b[39m\u001b[39m_check_timeout(..., skip_check_and_raise=True) \u001b[39m\u001b[39m'\u001b[39m\n\u001b[1;32m   2106\u001b[0m         \u001b[39m'\u001b[39m\u001b[39mfailed to raise TimeoutExpired.\u001b[39m\u001b[39m'\u001b[39m)\n\u001b[0;32m-> 2108\u001b[0m ready \u001b[39m=\u001b[39m selector\u001b[39m.\u001b[39;49mselect(timeout)\n\u001b[1;32m   2109\u001b[0m \u001b[39mself\u001b[39m\u001b[39m.\u001b[39m_check_timeout(endtime, orig_timeout, stdout, stderr)\n\u001b[1;32m   2111\u001b[0m \u001b[39m# XXX Rewrite these to use non-blocking I/O on the file\u001b[39;00m\n\u001b[1;32m   2112\u001b[0m \u001b[39m# objects; they are no longer using C stdio!\u001b[39;00m\n",
      "File \u001b[0;32m/usr/lib64/python3.11/selectors.py:415\u001b[0m, in \u001b[0;36m_PollLikeSelector.select\u001b[0;34m(self, timeout)\u001b[0m\n\u001b[1;32m    413\u001b[0m ready \u001b[39m=\u001b[39m []\n\u001b[1;32m    414\u001b[0m \u001b[39mtry\u001b[39;00m:\n\u001b[0;32m--> 415\u001b[0m     fd_event_list \u001b[39m=\u001b[39m \u001b[39mself\u001b[39m\u001b[39m.\u001b[39m_selector\u001b[39m.\u001b[39mpoll(timeout)\n\u001b[1;32m    416\u001b[0m \u001b[39mexcept\u001b[39;00m \u001b[39mInterruptedError\u001b[39;00m:\n\u001b[1;32m    417\u001b[0m     \u001b[39mreturn\u001b[39;00m ready\n",
      "\u001b[0;31mKeyboardInterrupt\u001b[0m: "
     ]
    }
   ],
   "source": [
    "skipped = 0\n",
    "datasets = [\"chico\", \"mediano\", \"grande\"]\n",
    "algoritmos = [\"J\", \"JS\", \"GS\", \"GSS\"]\n",
    "tipos = [\"edd\", \"sim\", \"triang\"]\n",
    "max_iter = 500\n",
    "step = 50\n",
    "tolerancia = 1e-10\n",
    "resultados = {}\n",
    "\n",
    "for ds in datasets:\n",
    "    for algoritmo in algoritmos:\n",
    "        resultados[f\"{algoritmo}\"] = []\n",
    "        for tipo in tipos:\n",
    "            for i in range(2, n + 1):\n",
    "                for j in range(1, max_iter + 1, step):\n",
    "                    # Aca va el timeit\n",
    "                    t = %timeit -r 5 -o correr_algoritmo(ds, tipo, 2 ** i, algoritmo, j, tolerancia)\n",
    "                    print(type(t))\n",
    "                    res = correr_algoritmo(ds, tipo, 2 ** i, algoritmo, j, tolerancia)\n",
    "                    resultados[f\"{algoritmo}\"].append(\n",
    "                        {\n",
    "                         \"tipo\": f\"{tipo}\",\n",
    "                         \"tamanio\": 2**i,\n",
    "                         \"niter\": j,\n",
    "                         \"tiempo\": t,\n",
    "                         \"res\": res\n",
    "                        })\n",
    "\n",
    "\n",
    "for ds in datasets:\n",
    "    resultados[\"LU\"] = []\n",
    "    for tipo in tipos:\n",
    "        for i in range (2, n + 1):\n",
    "            t = %timeit -r 5 -o correr_algoritmo(ds, tipo, 2 ** i, \"LU\", 0, tolerancia)\n",
    "            res = correr_algoritmo(ds, tipo, 2 ** i, \"LU\", 0, tolerancia)\n",
    "            resultados[\"LU\"].append(\n",
    "                {\n",
    "                 \"tipo\": {tipo},\n",
    "                 \"tamanio\": {2**i},\n",
    "                 \"tiempo\": t,\n",
    "                 \"res\": res\n",
    "                })\n",
    "resultados"
   ]
  }
 ],
 "metadata": {
  "kernelspec": {
   "display_name": "Python 3",
   "language": "python",
   "name": "python3"
  },
  "language_info": {
   "codemirror_mode": {
    "name": "ipython",
    "version": 3
   },
   "file_extension": ".py",
   "mimetype": "text/x-python",
   "name": "python",
   "nbconvert_exporter": "python",
   "pygments_lexer": "ipython3",
   "version": "3.11.4"
  },
  "orig_nbformat": 4
 },
 "nbformat": 4,
 "nbformat_minor": 2
}
