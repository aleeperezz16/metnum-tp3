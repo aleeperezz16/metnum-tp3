{
 "cells": [
  {
   "attachments": {},
   "cell_type": "markdown",
   "metadata": {},
   "source": [
    "# Experimentación métodos iterativos"
   ]
  },
  {
   "cell_type": "code",
   "execution_count": null,
   "metadata": {},
   "outputs": [],
   "source": [
    "import numpy as np\n",
    "import subprocess as sp\n",
    "import matplotlib.pyplot as plt\n",
    "import os\n",
    "\n",
    "dir_datos = \"../data/sistemas\"\n",
    "dir_resultados = \"../data/resultados\"\n",
    "dir_tiempos = \"../data/tiempos\"\n",
    "dir_figuras = \"../data/figuras\"\n",
    "\n",
    "if not os.path.exists(dir_resultados):\n",
    "    os.makedirs(dir_resultados)\n",
    "\n",
    "if not os.path.exists(dir_datos):\n",
    "    os.makedirs(dir_datos)\n",
    "\n",
    "if not os.path.exists(dir_tiempos):\n",
    "    os.makedirs(dir_tiempos)\n",
    "\n",
    "if not os.path.exists(dir_figuras):\n",
    "    os.makedirs(dir_figuras)"
   ]
  },
  {
   "attachments": {},
   "cell_type": "markdown",
   "metadata": {},
   "source": [
    "## Funciones auxiliares"
   ]
  },
  {
   "cell_type": "code",
   "execution_count": null,
   "metadata": {},
   "outputs": [],
   "source": [
    "metodos = [\"LU\", \"J\", \"JS\", \"GS\", \"GSS\"]\n",
    "nombre = [\"Factorización LU\", \"Jacobi\", \"Jacobi Sum\", \"Gauss-Seidel\", \"Gauss-Seidel Sum\"]\n",
    "algoritmos = dict(zip(metodos, nombre))"
   ]
  },
  {
   "cell_type": "code",
   "execution_count": null,
   "metadata": {},
   "outputs": [],
   "source": [
    "def correr_algoritmo(tam, metodo, iteraciones=0, tol=0):\n",
    "    proceso = sp.run([\"../src/iterativo\", os.path.join(dir_datos, f\"sistema_{tam}.txt\"), metodo, str(iteraciones), str(tol)], capture_output=True, text=True)\n",
    "    proceso.check_returncode()\n",
    "\n",
    "    return np.array(proceso.stdout.split(\" \"), dtype=np.float64)\n",
    "\n",
    "def cargar_solucion(tam):    \n",
    "    return np.genfromtxt(os.path.join(dir_datos, f\"x_{tam}.txt\"))\n",
    "\n",
    "def guardar_errores_metodos(resultados, nombre, tam):\n",
    "    np.savetxt(os.path.join(dir_resultados, f\"{nombre}_{tam}.txt\"), resultados, delimiter=\" \")\n",
    "\n",
    "def cargar_errores_metodos(nombre, tam):\n",
    "    return np.genfromtxt(os.path.join(dir_resultados, f\"{nombre}_{tam}.txt\"))\n",
    "    \n",
    "def guardar_tiempos_metodos(tiempos, nombre, tam):\n",
    "    np.savetxt(os.path.join(dir_tiempos, f\"{nombre}_{tam}.txt\"), tiempos, delimiter=\" \")\n",
    "\n",
    "def cargar_tiempos_metodos(nombre, tam):\n",
    "    return np.genfromtxt(os.path.join(dir_tiempos, f\"{nombre}_{tam}.txt\"))"
   ]
  },
  {
   "attachments": {},
   "cell_type": "markdown",
   "metadata": {},
   "source": [
    "## Experimentación"
   ]
  },
  {
   "cell_type": "code",
   "execution_count": null,
   "metadata": {},
   "outputs": [],
   "source": [
    "n = 2048\n",
    "max_iter = 30000\n",
    "tolerancia = 1e-10\n",
    "\n",
    "x = cargar_solucion(n)\n",
    "iters = range(1, max_iter)"
   ]
  },
  {
   "cell_type": "markdown",
   "metadata": {},
   "source": [
    "### Jacobi"
   ]
  },
  {
   "cell_type": "code",
   "execution_count": null,
   "metadata": {},
   "outputs": [],
   "source": [
    "errores_jacobi = np.array([])\n",
    "for iter in iters:\n",
    "    res = correr_algoritmo(n, \"J\", iter, tolerancia)\n",
    "    errores_jacobi = np.append(errores_jacobi, np.linalg.norm(x - res))\n",
    "\n",
    "guardar_errores_metodos(errores_jacobi, \"jacobi\", n)"
   ]
  },
  {
   "cell_type": "code",
   "execution_count": null,
   "metadata": {},
   "outputs": [],
   "source": [
    "tiempos_jacobi = []\n",
    "for i in range(2, int(np.log2(n)) + 1):\n",
    "    t = %timeit -o correr_algoritmo(2 ** i, \"J\", max_iter, tolerancia)\n",
    "    tiempos_jacobi.append((t.average, t.stdev))\n",
    "\n",
    "guardar_tiempos_metodos(np.stack(tiempos_jacobi), \"jacobi\", n)"
   ]
  },
  {
   "cell_type": "code",
   "execution_count": null,
   "metadata": {},
   "outputs": [],
   "source": [
    "tiempos_jacobi_sum = []\n",
    "for i in range(2, int(np.log2(n)) + 1):\n",
    "    t = %timeit -o correr_algoritmo(2 ** i, \"JS\", max_iter, tolerancia)\n",
    "    tiempos_jacobi_sum.append((t.average, t.stdev))\n",
    "\n",
    "guardar_tiempos_metodos(np.stack(tiempos_jacobi_sum), \"jacobi_sum\", n)"
   ]
  },
  {
   "cell_type": "markdown",
   "metadata": {},
   "source": [
    "### Gauss-Seidel"
   ]
  },
  {
   "cell_type": "code",
   "execution_count": null,
   "metadata": {},
   "outputs": [],
   "source": [
    "errores_gauss_seidel = np.array([])\n",
    "for iter in iters:\n",
    "    res = correr_algoritmo(n, \"GS\", iter, tolerancia)\n",
    "    errores_gauss_seidel = np.append(errores_gauss_seidel, np.linalg.norm(x - res))\n",
    "\n",
    "guardar_errores_metodos(errores_gauss_seidel, \"gauss-seidel\", n)"
   ]
  },
  {
   "cell_type": "code",
   "execution_count": null,
   "metadata": {},
   "outputs": [],
   "source": [
    "tiempos_gauss_seidel = []\n",
    "for i in range(2, int(np.log2(n)) + 1):\n",
    "    t = %timeit -o correr_algoritmo(2 ** i, \"GS\", max_iter, tolerancia)\n",
    "    tiempos_gauss_seidel.append((t.average, t.stdev))\n",
    "\n",
    "guardar_tiempos_metodos(np.stack(tiempos_gauss_seidel), \"gauss-seidel\", n)"
   ]
  },
  {
   "cell_type": "code",
   "execution_count": null,
   "metadata": {},
   "outputs": [],
   "source": [
    "tiempos_gauss_seidel_sum = []\n",
    "for i in range(2, int(np.log2(n)) + 1):\n",
    "    t = %timeit -o correr_algoritmo(2 ** i, \"GSS\", max_iter, tolerancia)\n",
    "    tiempos_gauss_seidel_sum.append((t.average, t.stdev))\n",
    "\n",
    "guardar_tiempos_metodos(np.stack(tiempos_gauss_seidel_sum), \"gauss-seidel_sum\", n)"
   ]
  },
  {
   "cell_type": "markdown",
   "metadata": {},
   "source": [
    "### LU"
   ]
  },
  {
   "cell_type": "code",
   "execution_count": null,
   "metadata": {},
   "outputs": [],
   "source": [
    "tiempos_lu = []\n",
    "for i in range(2, int(np.log2(n)) + 1):\n",
    "    t = %timeit -o correr_algoritmo(2 ** i, \"LU\")\n",
    "    tiempos_lu.append((t.average, t.stdev))\n",
    "\n",
    "guardar_tiempos_metodos(np.stack(tiempos_lu), \"lu\", n)"
   ]
  },
  {
   "cell_type": "markdown",
   "metadata": {},
   "source": [
    "## Gráficos"
   ]
  },
  {
   "cell_type": "markdown",
   "metadata": {},
   "source": [
    "### Error"
   ]
  },
  {
   "cell_type": "code",
   "execution_count": null,
   "metadata": {},
   "outputs": [],
   "source": [
    "errores_gauss_seidel = cargar_errores_metodos(\"gauss-seidel\", n)\n",
    "errores_jacobi = cargar_errores_metodos(\"jacobi\", n)"
   ]
  },
  {
   "cell_type": "code",
   "execution_count": null,
   "metadata": {},
   "outputs": [],
   "source": [
    "plt.plot(iters, errores_gauss_seidel, \"-\", label=\"Gauss-Seidel\")\n",
    "plt.plot(iters, errores_jacobi, \"-\", label=\"Jacobi\")\n",
    "plt.xlabel(\"Cant. iteraciones\")\n",
    "plt.ylabel(\"Error\")\n",
    "plt.legend()\n",
    "plt.grid(True)\n",
    "plt.title(f\"Error vs. para matriz de tamaño n = {n}\")\n",
    "plt.savefig(os.path.join(dir_figuras, f\"error_vs_{n}.jpg\"))"
   ]
  },
  {
   "cell_type": "code",
   "execution_count": null,
   "metadata": {},
   "outputs": [],
   "source": [
    "plt.plot(iters, errores_gauss_seidel, \"-\", label=\"Gauss-Seidel\")\n",
    "plt.plot(iters, errores_jacobi, \"-\", label=\"Jacobi\")\n",
    "plt.xlabel(\"Cant. iteraciones\")\n",
    "plt.ylabel(\"Error\")\n",
    "plt.yscale(\"log\")\n",
    "plt.legend()\n",
    "plt.grid(True)\n",
    "plt.title(f\"Error vs. para matriz de tamaño n = {n} (log)\")\n",
    "plt.savefig(os.path.join(dir_figuras, f\"error_vs_{n}_log.jpg\"))"
   ]
  },
  {
   "cell_type": "code",
   "execution_count": null,
   "metadata": {},
   "outputs": [],
   "source": [
    "plt.plot(iters[:15], errores_gauss_seidel[:15], \"-\", label=\"Gauss-Seidel\")\n",
    "plt.plot(iters[:15], errores_jacobi[:15], \"-\", label=\"Jacobi\")\n",
    "plt.xlabel(\"Cant. iteraciones\")\n",
    "plt.ylabel(\"Error\")\n",
    "plt.yscale(\"log\")\n",
    "plt.grid(True)\n",
    "plt.legend()\n",
    "plt.title(f\"Error vs. para matriz de tamaño n = {n} (zoom - log)\")\n",
    "plt.savefig(os.path.join(dir_figuras, f\"error_vs_{n}_zoom_log.jpg\"))"
   ]
  },
  {
   "cell_type": "code",
   "execution_count": null,
   "metadata": {},
   "outputs": [],
   "source": [
    "plt.plot(iters[800:1000], errores_jacobi[800:1000], \"-\")\n",
    "plt.xlabel(\"Cant. iteraciones\")\n",
    "plt.ylabel(\"Error\")\n",
    "plt.yscale(\"log\")\n",
    "plt.grid(True)\n",
    "plt.title(f\"Error Jacobi para matriz de tamaño n = {n} (zoom - log)\")\n",
    "plt.savefig(os.path.join(dir_figuras, f\"error_jacobi_{n}_zoom_log.jpg\"))"
   ]
  },
  {
   "attachments": {},
   "cell_type": "markdown",
   "metadata": {},
   "source": [
    "### Tiempo de cómputo"
   ]
  },
  {
   "cell_type": "code",
   "execution_count": null,
   "metadata": {},
   "outputs": [],
   "source": [
    "#tiempos_jacobi = cargar_tiempos_metodos(\"jacobi\", n)\n",
    "#tiempos_jacobi_sum = cargar_tiempos_metodos(\"jacobi_sum\", n)\n",
    "tiempos_gauss_seidel = cargar_tiempos_metodos(\"gauss-seidel\", n)\n",
    "tiempos_gauss_seidel_sum = cargar_tiempos_metodos(\"gauss-seidel_sum\", n)\n",
    "tiempos_lu = cargar_tiempos_metodos(\"lu\", n)"
   ]
  },
  {
   "cell_type": "code",
   "execution_count": null,
   "metadata": {},
   "outputs": [],
   "source": [
    "matrices = np.array([2 ** i for i in range(2, int(np.log2(n)) + 1)])\n",
    "\n",
    "tj, dj = np.hsplit(tiempos_jacobi, 2)\n",
    "plt.plot(matrices, tj, \"s-\", label=\"Jacobi\")\n",
    "plt.fill_between(matrices, tj.flatten() - dj.flatten(), tj.flatten() + dj.flatten(), alpha=0.4)\n",
    "\n",
    "tjs, djs = np.hsplit(tiempos_jacobi_sum, 2)\n",
    "plt.plot(matrices, tjs, \"X-\", label=\"Jacobi Sum\")\n",
    "plt.fill_between(matrices, tjs.flatten() - djs.flatten(), tjs.flatten() + djs.flatten(), alpha=0.4)\n",
    "\n",
    "tgs, dgs = np.hsplit(tiempos_gauss_seidel, 2)\n",
    "plt.plot(matrices, tgs, \">-\", label=\"Gauss-Seidel\")\n",
    "plt.fill_between(matrices, tgs.flatten() - dgs.flatten(), tgs.flatten() + dgs.flatten(), alpha=0.4)\n",
    "\n",
    "tgss, dgss = np.hsplit(tiempos_gauss_seidel_sum, 2)\n",
    "plt.plot(matrices, tgss, \"o-\", label=\"Gauss-Seidel Sum\")\n",
    "plt.fill_between(matrices, tgss.flatten() - dgss.flatten(), tgss.flatten() + dgss.flatten(), alpha=0.4)\n",
    "\n",
    "tl, dl = np.hsplit(tiempos_lu, 2)\n",
    "plt.plot(matrices, tl, \"d-\", label=\"Factorización LU\")\n",
    "plt.fill_between(matrices, tl.flatten() - dl.flatten(), tl.flatten() + dl.flatten(), alpha=0.4)\n",
    "\n",
    "plt.ylabel(\"Tiempo (s)\")\n",
    "plt.xlabel(\"Tamaño matriz\")\n",
    "plt.legend()\n",
    "plt.grid(True)\n",
    "plt.yscale(\"log\")\n",
    "plt.title(\"Tiempos de ejecución para todos los métodos (log)\")\n",
    "plt.savefig(os.path.join(dir_figuras, f\"tiempos_vs_{n}_log.jpg\"))"
   ]
  },
  {
   "cell_type": "code",
   "execution_count": null,
   "metadata": {},
   "outputs": [],
   "source": [
    "matrices = np.array([2 ** i for i in range(2, int(np.log2(n)) + 1)])\n",
    "\n",
    "tgs, dgs = np.hsplit(tiempos_gauss_seidel, 2)\n",
    "plt.plot(matrices, tgs, \">-\", label=\"Gauss-Seidel\")\n",
    "plt.fill_between(matrices, tgs.flatten() - dgs.flatten(), tgs.flatten() + dgs.flatten(), alpha=0.4)\n",
    "\n",
    "tgss, dgss = np.hsplit(tiempos_gauss_seidel_sum, 2)\n",
    "plt.plot(matrices, tgss, \"o-\", label=\"Gauss-Seidel Sum\")\n",
    "plt.fill_between(matrices, tgss.flatten() - dgss.flatten(), tgss.flatten() + dgss.flatten(), alpha=0.4)\n",
    "\n",
    "tl, dl = np.hsplit(tiempos_lu, 2)\n",
    "plt.plot(matrices, tl, \"d-\", label=\"Factorización LU\")\n",
    "plt.fill_between(matrices, tl.flatten() - dl.flatten(), tl.flatten() + dl.flatten(), alpha=0.4)\n",
    "\n",
    "plt.ylabel(\"Tiempo (s)\")\n",
    "plt.xlabel(\"Tamaño matriz\")\n",
    "plt.legend()\n",
    "plt.grid(True)\n",
    "plt.yscale(\"log\")\n",
    "plt.title(\"Tiempos de ejecución métodos seleccionados (log)\")\n",
    "plt.savefig(os.path.join(dir_figuras, f\"tiempos_selec_vs_{n}_log.jpg\"))"
   ]
  }
 ],
 "metadata": {
  "kernelspec": {
   "display_name": "Python 3",
   "language": "python",
   "name": "python3"
  },
  "language_info": {
   "codemirror_mode": {
    "name": "ipython",
    "version": 3
   },
   "file_extension": ".py",
   "mimetype": "text/x-python",
   "name": "python",
   "nbconvert_exporter": "python",
   "pygments_lexer": "ipython3",
   "version": "3.11.2"
  },
  "orig_nbformat": 4
 },
 "nbformat": 4,
 "nbformat_minor": 2
}
