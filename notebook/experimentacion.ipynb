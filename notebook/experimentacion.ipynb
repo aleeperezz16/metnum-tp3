{
 "cells": [
  {
   "attachments": {},
   "cell_type": "markdown",
   "metadata": {},
   "source": [
    "# Experimentación métodos iterativos"
   ]
  },
  {
   "cell_type": "code",
   "execution_count": null,
   "metadata": {},
   "outputs": [],
   "source": [
    "import numpy as np\n",
    "import subprocess as sp\n",
    "import matplotlib.pyplot as plt\n",
    "import json\n",
    "\n",
    "dir_datos = \"../data/sistemas\"\n",
    "dir_resultados = \"../data/resultados\"\n",
    "dir_tiempos = \"../data/tiempos\""
   ]
  },
  {
   "attachments": {},
   "cell_type": "markdown",
   "metadata": {},
   "source": [
    "## Funciones auxiliares"
   ]
  },
  {
   "cell_type": "code",
   "execution_count": null,
   "metadata": {},
   "outputs": [],
   "source": [
    "n = 10\n",
    "\n",
    "def correr_algoritmo(tipo, tam, metodo, iteraciones=0, tol=0):        \n",
    "    proceso = sp.run([\"../src/iterativo\", f\"{dir_datos}/{tipo}_{tam}.txt\", metodo, str(iteraciones), str(tol)], capture_output=True, text=True)\n",
    "    proceso.check_returncode()\n",
    "\n",
    "    return np.array(proceso.stdout.split(\" \"), dtype=np.float64)\n",
    "\n",
    "def cargar_soluciones(tipo, xs):\n",
    "    for i in range(2, n + 1):\n",
    "        tam = 2 ** i\n",
    "        xs.append(np.genfromtxt(f\"{dir_datos}/x_{tam}.txt\"))\n",
    "\n",
    "def cargar_soluciones_metodos(metodo):\n",
    "    with open(f\"{dir_resultados}/{metodo}.json\", \"r\") as input:\n",
    "        return json.load(input)\n",
    "    \n",
    "def cargar_tiempos_metodos(metodo):\n",
    "    with open(f\"{dir_tiempos}/{metodo}.json\", \"r\") as input:\n",
    "        return json.load(input)\n",
    "    \n",
    "def guardar_resultados(data, metodo):\n",
    "    with open(f\"{dir_resultados}/{metodo}.json\", \"w\") as output:\n",
    "        json.dump(data, output)\n",
    "\n",
    "def guardar_tiempos(data, metodo):\n",
    "    with open(f\"{dir_tiempos}/{metodo}.json\", \"w\") as output:\n",
    "        json.dump(data, output)"
   ]
  },
  {
   "attachments": {},
   "cell_type": "markdown",
   "metadata": {},
   "source": [
    "## Correr experimentos"
   ]
  },
  {
   "cell_type": "code",
   "execution_count": null,
   "metadata": {},
   "outputs": [],
   "source": [
    "max_iter = 450\n",
    "step = 30\n",
    "tolerancia = 1e-10\n",
    "\n",
    "tipos = [\"edd\", \"sim\", \"triang\"]"
   ]
  },
  {
   "cell_type": "code",
   "execution_count": null,
   "metadata": {},
   "outputs": [],
   "source": [
    "def calcular_tiempos(dic, metodo):\n",
    "    for tipo in tipos:\n",
    "        dic[f\"{tipo}\"] = []\n",
    "        for i in range(2, n + 1):\n",
    "            t = %timeit -o correr_algoritmo(ds, tipo, 2 ** i, metodo, max_iter, tolerancia)\n",
    "            dic[f\"{tipo}\"].append([t.average, t.stdev])"
   ]
  },
  {
   "attachments": {},
   "cell_type": "markdown",
   "metadata": {},
   "source": [
    "## Soluciones de los métodos"
   ]
  },
  {
   "cell_type": "code",
   "execution_count": null,
   "metadata": {},
   "outputs": [],
   "source": [
    "def obtener_soluciones(dic, metodo):\n",
    "    for tipo in tipos:\n",
    "        dic[f\"{tipo}\"] = []\n",
    "        for i in range(2, n + 1):\n",
    "            if metodo != \"LU\":\n",
    "                for j in range(1, max_iter + 1, step):\n",
    "                    res = correr_algoritmo(tipo, 2 ** i, metodo, j, tolerancia)\n",
    "                    dic[f\"{tipo}\"].append(res.tolist())\n",
    "            else:\n",
    "                res = correr_algoritmo(tipo, 2 ** i, metodo)\n",
    "                dic[f\"{tipo}\"].append(res.tolist())"
   ]
  },
  {
   "attachments": {},
   "cell_type": "markdown",
   "metadata": {},
   "source": [
    "### Jacobi"
   ]
  },
  {
   "cell_type": "code",
   "execution_count": null,
   "metadata": {},
   "outputs": [],
   "source": [
    "resultados_jacobi = {}\n",
    "obtener_soluciones(resultados_jacobi, \"J\")\n",
    "guardar_resultados(resultados_jacobi, \"jacobi\")"
   ]
  },
  {
   "attachments": {},
   "cell_type": "markdown",
   "metadata": {},
   "source": [
    "### Jacobi Sumatoria"
   ]
  },
  {
   "cell_type": "code",
   "execution_count": null,
   "metadata": {},
   "outputs": [],
   "source": [
    "resultados_jacobi_sum = {}\n",
    "obtener_soluciones(resultados_jacobi_sum, \"JS\")\n",
    "guardar_resultados(resultados_jacobi_sum, \"jacobi_sum\")"
   ]
  },
  {
   "attachments": {},
   "cell_type": "markdown",
   "metadata": {},
   "source": [
    "### Gauss Seidel"
   ]
  },
  {
   "cell_type": "code",
   "execution_count": null,
   "metadata": {},
   "outputs": [],
   "source": [
    "resultados_gs = {}\n",
    "obtener_soluciones(resultados_gs, \"GS\")\n",
    "guardar_resultados(resultados_gs, \"gauss_seidel\")"
   ]
  },
  {
   "attachments": {},
   "cell_type": "markdown",
   "metadata": {},
   "source": [
    "### Gauss Seidel Sumatoria"
   ]
  },
  {
   "cell_type": "code",
   "execution_count": null,
   "metadata": {},
   "outputs": [],
   "source": [
    "resultados_gs_sum = {}\n",
    "obtener_soluciones(resultados_gs_sum, \"GSS\")\n",
    "guardar_resultados(resultados_gs_sum, \"gauss_seidel_sum\")"
   ]
  },
  {
   "attachments": {},
   "cell_type": "markdown",
   "metadata": {},
   "source": [
    "### LU"
   ]
  },
  {
   "cell_type": "code",
   "execution_count": null,
   "metadata": {},
   "outputs": [],
   "source": [
    "resultados_lu = {}\n",
    "obtener_soluciones(resultados_lu, \"LU\")\n",
    "guardar_resultados(resultados_lu, \"lu\")"
   ]
  },
  {
   "attachments": {},
   "cell_type": "markdown",
   "metadata": {},
   "source": [
    "## Cargar vectores solución"
   ]
  },
  {
   "cell_type": "code",
   "execution_count": null,
   "metadata": {},
   "outputs": [],
   "source": [
    "xs = []\n",
    "\n",
    "cargar_soluciones(\"\", xs)\n"
   ]
  },
  {
   "attachments": {},
   "cell_type": "markdown",
   "metadata": {},
   "source": [
    "## Cargar soluciones métodos"
   ]
  },
  {
   "cell_type": "code",
   "execution_count": null,
   "metadata": {},
   "outputs": [],
   "source": [
    "sol_j = cargar_soluciones_metodos(\"jacobi\")\n",
    "sol_js = cargar_soluciones_metodos(\"jacobi_sum\")\n",
    "sol_gs = cargar_soluciones_metodos(\"gauss_seidel\")\n",
    "sol_gss = cargar_soluciones_metodos(\"gauss_seidel_sum\")\n",
    "sol_lu = cargar_soluciones_metodos(\"lu\")"
   ]
  },
  {
   "attachments": {},
   "cell_type": "markdown",
   "metadata": {},
   "source": [
    "\n",
    "## Tiempo de cómputo para los métodos"
   ]
  },
  {
   "cell_type": "code",
   "execution_count": null,
   "metadata": {},
   "outputs": [],
   "source": [
    "tiempos_jacobi = {}\n",
    "calcular_tiempos(tiempos_jacobi, \"J\")\n",
    "guardar_resultados(tiempos_jacobi, \"tiempos_jacobi\")"
   ]
  },
  {
   "cell_type": "code",
   "execution_count": null,
   "metadata": {},
   "outputs": [],
   "source": [
    "tiempos_jacobi_sum = {}\n",
    "calcular_tiempos(tiempos_jacobi_sum, \"JS\")\n",
    "guardar_resultados(tiempos_jacobi_sum, \"tiempos_jacobi_sum\")"
   ]
  },
  {
   "cell_type": "code",
   "execution_count": null,
   "metadata": {},
   "outputs": [],
   "source": [
    "tiempos_gs = {}\n",
    "calcular_tiempos(tiempos_gs, \"GS\")\n",
    "guardar_resultados(tiempos_gs, \"tiempos_gauss_seidel\")"
   ]
  },
  {
   "cell_type": "code",
   "execution_count": null,
   "metadata": {},
   "outputs": [],
   "source": [
    "tiempos_gss = {}\n",
    "calcular_tiempos(tiempos_gss, \"GSS\")\n",
    "guardar_resultados(tiempos_gss, \"tiempos_gauss_seidel_sum\")"
   ]
  },
  {
   "cell_type": "code",
   "execution_count": null,
   "metadata": {},
   "outputs": [],
   "source": [
    "tiempos_lu = {}\n",
    "calcular_tiempos(tiempos_lu, \"LU\")\n",
    "guardar_resultados(tiempos_gs, \"tiempos_lu\")"
   ]
  },
  {
   "attachments": {},
   "cell_type": "markdown",
   "metadata": {},
   "source": [
    "## Generación de Gráficos"
   ]
  },
  {
   "attachments": {},
   "cell_type": "markdown",
   "metadata": {},
   "source": [
    "### Error"
   ]
  },
  {
   "cell_type": "code",
   "execution_count": null,
   "metadata": {},
   "outputs": [],
   "source": [
    "jacobi_separados = {}\n",
    "gs_separados = {}\n",
    "jacobi_sum_separados = {}\n",
    "gs_sum_separados = {}\n",
    "\n",
    "# separamos los resultados por tamaño de matriz\n",
    "for tipo in tipos:\n",
    "    jacobi_separados[f\"{tipo}\"] = {}\n",
    "    gs_separados[f\"{tipo}\"]  = {}\n",
    "    jacobi_sum_separados[f\"{tipo}\"]  = {}\n",
    "    gs_sum_separados[f\"{tipo}\"]  = {}\n",
    "    for i in range(2, n+1):\n",
    "        jacobi_separados[f\"{tipo}\"][f\"{2**i}\"] = []\n",
    "        gs_separados[f\"{tipo}\"][f\"{2**i}\"]  = []\n",
    "        jacobi_sum_separados[f\"{tipo}\"][f\"{2**i}\"]  = []\n",
    "        gs_sum_separados[f\"{tipo}\"][f\"{2**i}\"]  = []\n",
    "        for sol in sol_j[f\"{tipo}\"]:\n",
    "            if len(sol) == 2**i:\n",
    "                jacobi_separados[f\"{tipo}\"][f\"{2**i}\"].append(sol)\n",
    "        for sol in sol_gs[f\"{tipo}\"]:\n",
    "            if len(sol) == 2**i:\n",
    "                gs_separados[f\"{tipo}\"][f\"{2**i}\"].append(sol)\n",
    "        for sol in sol_js[f\"{tipo}\"]:\n",
    "            if len(sol) == 2**i:\n",
    "                jacobi_sum_separados[f\"{tipo}\"][f\"{2**i}\"].append(sol)\n",
    "        for sol in sol_gss[f\"{tipo}\"]:\n",
    "            if len(sol) == 2**i:\n",
    "                gs_sum_separados[f\"{tipo}\"][f\"{2**i}\"].append(sol)\n",
    "                \n",
    "errores_jacobi = {}\n",
    "errores_gs = {}\n",
    "errores_jacobi_sum = {}\n",
    "errores_gs_sum = {}\n",
    "\n",
    "for tipo in tipos:\n",
    "    errores_jacobi[f\"{tipo}\"] = {}\n",
    "    errores_gs[f\"{tipo}\"] = {}\n",
    "    errores_jacobi_sum[f\"{tipo}\"] = {}\n",
    "    errores_gs_sum[f\"{tipo}\"] = {}\n",
    "    for sol in xs:\n",
    "        errores_jacobi[f\"{tipo}\"][f\"{len(sol)}\"] = []\n",
    "        errores_gs[f\"{tipo}\"][f\"{len(sol)}\"] = []\n",
    "        errores_jacobi_sum[f\"{tipo}\"][f\"{len(sol)}\"] = []\n",
    "        errores_gs_sum[f\"{tipo}\"][f\"{len(sol)}\"] = []\n",
    "\n",
    "        for x in jacobi_separados[f\"{tipo}\"][f\"{len(sol)}\"]:\n",
    "            errores_jacobi[f\"{tipo}\"][f\"{len(sol)}\"].append(np.linalg.norm(x-sol))\n",
    "        for x in gs_separados[f\"{tipo}\"][f\"{len(sol)}\"]:\n",
    "            errores_gs[f\"{tipo}\"][f\"{len(sol)}\"].append(np.linalg.norm(x-sol))\n",
    "        for x in jacobi_sum_separados[f\"{tipo}\"][f\"{len(sol)}\"]:\n",
    "            errores_jacobi_sum[f\"{tipo}\"][f\"{len(sol)}\"].append(np.linalg.norm(x-sol))\n",
    "        for x in gs_sum_separados[f\"{tipo}\"][f\"{len(sol)}\"]:\n",
    "            errores_gs_sum[f\"{tipo}\"][f\"{len(sol)}\"].append(np.linalg.norm(x-sol))"
   ]
  },
  {
   "cell_type": "code",
   "execution_count": null,
   "metadata": {},
   "outputs": [],
   "source": [
    "tam = 128\n",
    "tipo = \"edd\"\n",
    "errs = errores_jacobi[f\"{tipo}\"][f\"{tam}\"]\n",
    "\n",
    "its = range(1,max_iter + 1,step)\n",
    "\n",
    "plt.plot(its, errs)\n",
    "plt.xlabel(\"N iteraciones\")\n",
    "plt.ylabel(\"Error (norma 2)\")\n",
    "plt.title(f\"Error met. Jacobi, para matriz e.d.d. de tamaño {tam}x{tam}\",fontsize = 9)\n",
    "plt.savefig(f\"../plots/err_jacobi_{tipo}_{tam}\")"
   ]
  },
  {
   "cell_type": "code",
   "execution_count": null,
   "metadata": {},
   "outputs": [],
   "source": [
    "tam = 128\n",
    "tipo = \"edd\"\n",
    "errs = errores_gs[f\"{tipo}\"][f\"{tam}\"]\n",
    "\n",
    "its = range(1,max_iter + 1,step)\n",
    "\n",
    "plt.plot(its, errs)\n",
    "plt.xlabel(\"N iteraciones\")\n",
    "plt.ylabel(\"Error (norma 2)\")\n",
    "plt.title(f\"Error met. G-S, para matriz e.d.d. de tamaño {tam}x{tam}\",fontsize = 9)\n",
    "plt.savefig(f\"../plots/err_gs_{tipo}_{tam}\")"
   ]
  },
  {
   "attachments": {},
   "cell_type": "markdown",
   "metadata": {},
   "source": [
    "### Tiempo de cómputo"
   ]
  },
  {
   "cell_type": "code",
   "execution_count": null,
   "metadata": {},
   "outputs": [],
   "source": [
    "tiempos_j = cargar_tiempos_metodos(\"jacobi\")\n",
    "tiempos_js = cargar_tiempos_metodos(\"jacobi_sum\")\n",
    "tiempos_gs = cargar_tiempos_metodos(\"gauss_seidel\")\n",
    "tiempos_gss = cargar_tiempos_metodos(\"gauss_seidel_sum\")\n",
    "tiempos_lu = cargar_tiempos_metodos(\"lu\")"
   ]
  },
  {
   "cell_type": "code",
   "execution_count": null,
   "metadata": {},
   "outputs": [],
   "source": [
    "tam_matriz = [2 ** i for i in range(2, n + 1)]\n",
    "def graficar_tiempos(dic, tipo, nombre_metodo):\n",
    "    _, ax = plt.subplots()\n",
    "    for ds in datasets: \n",
    "        t = [tiempo[0] * 1000 for tiempo in dic[ds][tipo]]\n",
    "        ax.plot(tam_matriz, t)\n",
    "\n",
    "    ax.set_ylabel(\"Tiempo (ms)\")\n",
    "    ax.set_xlabel(\"Tamaño matriz\")\n",
    "    ax.set_title(f\"{nombre_metodo} dataset {tipo}\")\n",
    "    ax.legend(datasets)\n",
    "    \n",
    "    plt.show()\n",
    "\n",
    "def graficar_desvio_tiempo(dic, tipo, nombre_metodo):\n",
    "    _, ax = plt.subplots()\n",
    "    datos = [[dato[0] * 1000, dato[1] * 1000] for dato in dic[\"chico\"][tipo]]\n",
    "    ax.boxplot(datos)\n",
    "    \n",
    "    ax.set_xticklabels(tam_matriz)\n",
    "    ax.set_ylabel(\"Tiempo (ms)\")\n",
    "    ax.set_xlabel(\"Tamaño matriz\")\n",
    "    ax.set_title(f\"{nombre_metodo} dataset {tipo}\")\n",
    "\n",
    "    plt.show()"
   ]
  },
  {
   "cell_type": "code",
   "execution_count": null,
   "metadata": {},
   "outputs": [],
   "source": [
    "graficar_tiempos(tiempos_j, \"edd\", \"Jacobi\")\n",
    "graficar_tiempos(tiempos_js, \"edd\", \"Jacobi Sumatoria\")\n",
    "graficar_tiempos(tiempos_gs, \"edd\", \"Gauss-Seidel\")\n",
    "graficar_tiempos(tiempos_gss, \"edd\", \"Gauss-Seidel Sumatoria\")"
   ]
  },
  {
   "cell_type": "code",
   "execution_count": null,
   "metadata": {},
   "outputs": [],
   "source": [
    "graficar_desvio_tiempo(tiempos_j, \"edd\", \"Jacobi\")"
   ]
  },
  {
   "attachments": {},
   "cell_type": "markdown",
   "metadata": {},
   "source": [
    "### LU"
   ]
  },
  {
   "attachments": {},
   "cell_type": "markdown",
   "metadata": {},
   "source": [
    "### LU vs Métodos Iterativos"
   ]
  },
  {
   "attachments": {},
   "cell_type": "markdown",
   "metadata": {},
   "source": [
    "- Error de aproximacion entre valor actual y final (por cantidad de iteraciones) para matrices de diferentes tamaños\n",
    "- Tiempo final de computo por iteraciones y por tamaño de matrices\n",
    "- LU tiempo de computo por tamaño de matriz. Error numerico (comparar con x real).\n",
    "- Comparar LU con todos los metodos iterativos."
   ]
  }
 ],
 "metadata": {
  "kernelspec": {
   "display_name": "Python 3",
   "language": "python",
   "name": "python3"
  },
  "language_info": {
   "codemirror_mode": {
    "name": "ipython",
    "version": 3
   },
   "file_extension": ".py",
   "mimetype": "text/x-python",
   "name": "python",
   "nbconvert_exporter": "python",
   "pygments_lexer": "ipython3",
   "version": "3.11.4"
  },
  "orig_nbformat": 4
 },
 "nbformat": 4,
 "nbformat_minor": 2
}
