{
 "cells": [
  {
   "attachments": {},
   "cell_type": "markdown",
   "metadata": {},
   "source": [
    "# Experimentación métodos iterativos"
   ]
  },
  {
   "cell_type": "code",
   "execution_count": 67,
   "metadata": {},
   "outputs": [],
   "source": [
    "import os\n",
    "import numpy as np\n",
    "import subprocess as sp"
   ]
  },
  {
   "cell_type": "code",
   "execution_count": 68,
   "metadata": {},
   "outputs": [],
   "source": [
    "dir = \"../data\""
   ]
  },
  {
   "attachments": {},
   "cell_type": "markdown",
   "metadata": {},
   "source": [
    "## Funciones auxiliares"
   ]
  },
  {
   "cell_type": "code",
   "execution_count": 69,
   "metadata": {},
   "outputs": [],
   "source": [
    "def generar_sistema_edd(tam, sol, tipo):\n",
    "    A = np.random.randint(-20, 20, (tam, tam))\n",
    "    suma = np.sum(np.abs(A), axis=1)\n",
    "    A += np.diag(suma)\n",
    "\n",
    "    b = A @ sol\n",
    "\n",
    "    if not os.path.exists(f\"{dir}/{tipo}\"):\n",
    "        os.makedirs(f\"{dir}/{tipo}\")\n",
    "\n",
    "    np.savetxt(f\"{dir}/{tipo}/matriz_edd_{tam}.txt\", np.hstack((A, b[:, np.newaxis])), \"%d\", \" \", comments=\"\", header=f\"{tam}\")\n",
    "\n",
    "def generar_sistema_simetrico(tam, sol, tipo):\n",
    "    A = np.random.randint(-20, 20, (tam, tam))\n",
    "    A = A.T @ A\n",
    "\n",
    "    b = A @ sol\n",
    "\n",
    "    if not os.path.exists(f\"{dir}/{tipo}\"):\n",
    "        os.makedirs(f\"{dir}/{tipo}\")\n",
    "\n",
    "    np.savetxt(f\"{dir}/{tipo}/matriz_sim_{tam}.txt\", np.hstack((A, b[:, np.newaxis])), \"%d\", \" \", comments=\"\", header=f\"{tam}\")\n",
    "\n",
    "def generar_sistema_triangular(tam, sol, tipo):\n",
    "    A = np.tril(np.random.randint(-20, 20, (tam, tam)))\n",
    "    b = A @ sol\n",
    "\n",
    "    if not os.path.exists(f\"{dir}/{tipo}\"):\n",
    "        os.makedirs(f\"{dir}/{tipo}\")\n",
    "\n",
    "    np.savetxt(f\"{dir}/{tipo}/matriz_triang_{tam}.txt\", np.hstack((A, b[:, np.newaxis])), \"%d\", \" \", comments=\"\", header=f\"{tam}\")"
   ]
  },
  {
   "cell_type": "code",
   "execution_count": 86,
   "metadata": {},
   "outputs": [],
   "source": [
    "def correr_algoritmo(tipo, metodo, iteraciones, error):\n",
    "    archivos = os.listdir(f\"{dir}/{tipo}\")\n",
    "\n",
    "    for archivo in archivos:\n",
    "        proceso = sp.run([\"../src/iterativo\", f\"{dir}/{tipo}/{archivo}\", metodo, str(iteraciones), str(error)], capture_output=True, text=True)\n",
    "        proceso.check_returncode()\n",
    "\n",
    "        print(proceso.stdout)"
   ]
  },
  {
   "cell_type": "code",
   "execution_count": 71,
   "metadata": {},
   "outputs": [],
   "source": [
    "def crear_archivos(n, low, high, tipo):\n",
    "    for i in range(2, n + 1):\n",
    "        tam = 2 ** i\n",
    "        x = np.random.randint(low, high, tam)\n",
    "\n",
    "        generar_sistema_edd(tam, x, tipo)\n",
    "        generar_sistema_simetrico(tam, x, tipo)\n",
    "        generar_sistema_triangular(tam, x, tipo)"
   ]
  },
  {
   "attachments": {},
   "cell_type": "markdown",
   "metadata": {},
   "source": [
    "## Generar instancias"
   ]
  },
  {
   "cell_type": "code",
   "execution_count": 72,
   "metadata": {},
   "outputs": [],
   "source": [
    "n = 8"
   ]
  },
  {
   "attachments": {},
   "cell_type": "markdown",
   "metadata": {},
   "source": [
    "### Vector solucion chico"
   ]
  },
  {
   "cell_type": "code",
   "execution_count": 73,
   "metadata": {},
   "outputs": [],
   "source": [
    "crear_archivos(n, 0, 10, \"chico\")"
   ]
  },
  {
   "attachments": {},
   "cell_type": "markdown",
   "metadata": {},
   "source": [
    "### Vector solucion mediano"
   ]
  },
  {
   "cell_type": "code",
   "execution_count": 74,
   "metadata": {},
   "outputs": [],
   "source": [
    "crear_archivos(n, 50, 100, \"mediano\")"
   ]
  },
  {
   "attachments": {},
   "cell_type": "markdown",
   "metadata": {},
   "source": [
    "### Vector solucion grande"
   ]
  },
  {
   "cell_type": "code",
   "execution_count": 75,
   "metadata": {},
   "outputs": [],
   "source": [
    "crear_archivos(n, 200, 300, \"grande\")"
   ]
  },
  {
   "attachments": {},
   "cell_type": "markdown",
   "metadata": {},
   "source": [
    "## Correr algoritmos"
   ]
  },
  {
   "cell_type": "code",
   "execution_count": 87,
   "metadata": {},
   "outputs": [
    {
     "data": {
      "text/plain": [
       "'8 2 9 2\\n'"
      ]
     },
     "metadata": {},
     "output_type": "display_data"
    },
    {
     "data": {
      "text/plain": [
       "'8 2 9 2\\n'"
      ]
     },
     "metadata": {},
     "output_type": "display_data"
    },
    {
     "data": {
      "text/plain": [
       "'8 2 9 2\\n'"
      ]
     },
     "metadata": {},
     "output_type": "display_data"
    },
    {
     "data": {
      "text/plain": [
       "'-7.40149e-17            9            1 -1.28015e-16            2            7            4            9\\n'"
      ]
     },
     "metadata": {},
     "output_type": "display_data"
    },
    {
     "data": {
      "text/plain": [
       "'1.12086e-15           9           1 1.44811e-15           2           7           4           9\\n'"
      ]
     },
     "metadata": {},
     "output_type": "display_data"
    },
    {
     "data": {
      "text/plain": [
       "'-nan -nan -nan -nan -nan  inf  inf -inf\\n'"
      ]
     },
     "metadata": {},
     "output_type": "display_data"
    },
    {
     "data": {
      "text/plain": [
       "'           8            2            7 -6.31525e-16            6            2            1            3            8            1            2            6            8            3            0            7\\n'"
      ]
     },
     "metadata": {},
     "output_type": "display_data"
    },
    {
     "data": {
      "text/plain": [
       "'           8            2            7   1.4285e-12            6            2            1            3            8            1            2            6            8            3 -5.56923e-13            7\\n'"
      ]
     },
     "metadata": {},
     "output_type": "display_data"
    },
    {
     "data": {
      "text/plain": [
       "'           8            2            7 -5.22424e-15            6            2            1            3            8            1            2            6            8            3  8.48234e-12            7\\n'"
      ]
     },
     "metadata": {},
     "output_type": "display_data"
    },
    {
     "data": {
      "text/plain": [
       "' 3.84077e-17            5            9  5.98722e-17            3  -7.4873e-16            8            6            5            4            5            8 -6.76843e-17            4            8            3            1            9            5            1            2            1            9            7            2            5            2            3            1            1  8.26817e-17            5\\n'"
      ]
     },
     "metadata": {},
     "output_type": "display_data"
    },
    {
     "data": {
      "text/plain": [
       "' 1.1296e-12           5           9 6.22855e-13           3 2.30277e-13           8           6           5           4           5           8 3.50342e-15           4           8           3           1           9           5           1           2           1           9           7           2           5           2           3           1           1 -8.3842e-13           5\\n'"
      ]
     },
     "metadata": {},
     "output_type": "display_data"
    },
    {
     "data": {
      "text/plain": [
       "'           0            5            9  8.77345e-15            3 -1.68471e-14            8            6            5            4            5            8 -9.17245e-14      4.00044      7.99953      2.99988      1.00028      8.99564      4.99852     0.983042       1.9922      1.05601       8.9765      6.94918      1.87397       3.4534      3.75006      3.79227      9.91626     -25.5886      20.5018     -52.9239\\n'"
      ]
     },
     "metadata": {},
     "output_type": "display_data"
    },
    {
     "data": {
      "text/plain": [
       "'           9            8  2.10967e-16            1            6            4            1 -4.58537e-16            9            3            1            6 -1.12267e-16            8            1            4            6            8            7            1            1            6            4            4            7            8            1            2            3            2            8            7            3            3            6            8            6            4            6            3            2            8            4            4            5            3            9            6            6            3            4            7            5            3            6            8            4            3            6            2 -6.00772e-18            5            3  1.96367e-17\\n'"
      ]
     },
     "metadata": {},
     "output_type": "display_data"
    },
    {
     "data": {
      "text/plain": [
       "'           9            8  8.57418e-10            1            6            4            1  3.39543e-10            9            3            1            6 -9.88147e-10            8            1            4            6            8            7            1            1            6            4            4            7            8            1            2            3            2            8            7            3            3            6            8            6            4            6            3            2            8            4            4            5            3            9            6            6            3            4            7            5            3            6            8            4            3            6            2  2.28019e-10            5            3  4.44172e-10\\n'"
      ]
     },
     "metadata": {},
     "output_type": "display_data"
    },
    {
     "data": {
      "text/plain": [
       "'          9           8  5.9955e-13           1           6           4           1 3.08626e-12           9           3           1           6 1.27947e-11           8           1           4           6           8           7           1           1           6           4           4           7           8           1           2           3           2           8           7           3           3           6           8           6           4           6           3           2           8           4           4           5           3           9           6           6           3     28.6829    -2.87315     64.2389    -41.4292     174.549     1736.15    -130.345    -229.756      278.64     5001.44      3866.9     2810.45     4667.01    -1466.57\\n'"
      ]
     },
     "metadata": {},
     "output_type": "display_data"
    },
    {
     "data": {
      "text/plain": [
       "'           8            3            1 -9.28509e-17 -2.11672e-17            8            4 -5.80577e-17            4            7            3            2            9            2            1            2            2            5            3            8            8            4            1            3            6            5            1            7            7            6            7            9            6            2            3            3            4            9            2            7            5            5            3            7            9            8            9            4            9            1            7            5            9            3            1            4            8            1            1            7            2            9 -9.12845e-17            8            2            4            2            7            8            9            1            8            6  1.27694e-17            8            3            8            1            4  1.82924e-16            8            5            2            4            4            1            3            9   1.1715e-16            6            9  2.71278e-16            1            2            6            1            1            5            3            2  7.21056e-17            4            6            6 -3.54044e-17            3  1.34949e-16            1            1            2            2            7            1            7            4            1            4            2            5            8            2            6  1.44801e-16            9            9            4            2            9\\n'"
      ]
     },
     "metadata": {},
     "output_type": "display_data"
    },
    {
     "data": {
      "text/plain": [
       "'           8            3            1   1.2326e-11 -5.34348e-12            8            4  2.42463e-12            4            7            3            2            9            2            1            2            2            5            3            8            8            4            1            3            6            5            1            7            7            6            7            9            6            2            3            3            4            9            2            7            5            5            3            7            9            8            9            4            9            1            7            5            9            3            1            4            8            1            1            7            2            9  2.03471e-12            8            2            4            2            7            8            9            1            8            6  3.74337e-12            8            3            8            1            4  -2.2715e-14            8            5            2            4            4            1            3            9 -4.88762e-12            6            9 -6.69335e-13            1            2            6            1            1            5            3            2 -8.64916e-13            4            6            6 -3.95767e-12            3 -3.64802e-12            1            1            2            2            7            1            7            4            1            4            2            5            8            2            6 -1.64246e-13            9            9            4            2            9\\n'"
      ]
     },
     "metadata": {},
     "output_type": "display_data"
    },
    {
     "data": {
      "text/plain": [
       "'-nan -nan -nan -nan -nan -nan -nan -nan -nan -nan -nan -nan -nan -nan -nan -nan -nan -nan -nan -nan -nan -nan -nan -nan -nan -nan -nan -nan -nan -nan -nan -nan -nan -nan -nan -nan -nan -nan -nan -nan -nan -nan -nan -nan -nan -nan -nan -nan -nan -nan -nan -nan -nan -nan -nan -nan -nan -nan -nan -nan -nan -nan -nan -nan -nan -nan -nan -nan -nan -nan -nan -nan -nan -nan -nan -nan -nan -nan -nan -nan -nan -nan -nan -nan -nan -nan -nan -nan -nan -nan -nan -nan -nan -nan -nan -nan -nan -nan -nan -nan -nan -nan -nan -nan -nan -nan -nan -nan -nan -nan -nan -nan -nan -nan -nan -nan -nan -nan -nan -nan -nan -nan -nan -nan -nan -nan -nan  inf\\n'"
      ]
     },
     "metadata": {},
     "output_type": "display_data"
    },
    {
     "data": {
      "text/plain": [
       "'           5            3            4            8            5            9            5            9            8            6            4            6  -2.9176e-16            6            1            6  1.39444e-16  6.75922e-17            8            4            4            2            6            6            7            4            5 -1.12478e-16            5            6  2.54757e-16   2.7976e-16            2            6            3            2            3            6            2            8            9            3            7            4            7            4            1            3            4            9            6            1  5.99913e-17            4            2            1            6 -3.28117e-16            9            8            4            7            1            8            7            4            8            3            4            8            3            9            9            3            5            2            9            5            6            2            6            6            4            9            5            8            1            2            1            7            1 -7.99947e-17            9            7            6 -1.96783e-16            9            2            6            6            4            4            3            3            3            7            3            4            7            5  2.92751e-16            7            5            9            5            6            8            8            7            9  1.31653e-16            3  1.08954e-16            3            6            4            3            7            3            9            5            5            1            1            8 -4.33871e-17            7            9            5            6            8            3            1            2            2            2            4            7            7            5            7            4            8            1  -3.2285e-16            8            9            2            2            7            5            8            2            2            9  -6.7851e-17            2            6            5            8            4            9            5            9            9  2.12544e-16            4            2            8            9            8            1            1 -2.10155e-16            4            4  1.94903e-16            7 -9.70436e-17            5            3            1            1            4            3            9  2.99304e-16            4            1            8            2            9            6            8            6            5            1            8            3 -2.47768e-16            7            6            4            1  1.34754e-16            2            3            8            9            7            9            7            1            6            8            3            6            8            9            4            2            2            9            6            5            1            9  5.32427e-19  1.14101e-16            4            1            8            6            2            8            4            4            3            7            1            8            5  9.54952e-17            2            2            6\\n'"
      ]
     },
     "metadata": {},
     "output_type": "display_data"
    },
    {
     "data": {
      "text/plain": [
       "'           5            3            4            8            5            9            5            9            8            6            4            6  2.49316e-12            6            1            6  6.15377e-12 -2.43807e-11            8            4            4            2            6            6            7            4            5  8.30867e-12            5            6 -6.16644e-12 -5.09239e-12            2            6            3            2            3            6            2            8            9            3            7            4            7            4            1            3            4            9            6            1 -6.18222e-12            4            2            1            6 -7.21736e-12            9            8            4            7            1            8            7            4            8            3            4            8            3            9            9            3            5            2            9            5            6            2            6            6            4            9            5            8            1            2            1            7            1   6.4404e-12            9            7            6 -2.80899e-12            9            2            6            6            4            4            3            3            3            7            3            4            7            5 -9.19343e-12            7            5            9            5            6            8            8            7            9  9.10386e-12            3  7.21866e-13            3            6            4            3            7            3            9            5            5            1            1            8  8.42837e-12            7            9            5            6            8            3            1            2            2            2            4            7            7            5            7            4            8            1  2.60394e-12            8            9            2            2            7            5            8            2            2            9 -1.11149e-11            2            6            5            8            4            9            5            9            9 -2.74462e-13            4            2            8            9            8            1            1  -1.5974e-11            4            4  1.02688e-11            7  6.18083e-12            5            3            1            1            4            3            9 -4.46806e-12            4            1            8            2            9            6            8            6            5            1            8            3   5.1164e-12            7            6            4            1 -5.39396e-12            2            3            8            9            7            9            7            1            6            8            3            6            8            9            4            2            2            9            6            5            1            9  6.26531e-12  1.54745e-11            4            1            8            6            2            8            4            4            3            7            1            8            5  1.46177e-12            2            2            6\\n'"
      ]
     },
     "metadata": {},
     "output_type": "display_data"
    },
    {
     "data": {
      "text/plain": [
       "'-nan -nan -nan -nan -nan -nan -nan -nan -nan -nan -nan -nan -nan -nan -nan -nan -nan -nan -nan -nan -nan -nan -nan -nan -nan -nan -nan -nan -nan -nan -nan -nan -nan -nan -nan -nan -nan -nan -nan -nan -nan -nan -nan -nan -nan -nan -nan -nan -nan -nan -nan -nan -nan -nan -nan -nan -nan -nan -nan -nan -nan -nan -nan -nan -nan -nan -nan -nan -nan -nan -nan -nan -nan -nan -nan -nan -nan -nan -nan -nan -nan -nan -nan -nan -nan -nan -nan -nan -nan -nan -nan -nan -nan -nan -nan -nan -nan -nan -nan -nan -nan -nan -nan -nan -nan -nan -nan -nan -nan -nan -nan -nan -nan -nan -nan -nan -nan -nan -nan -nan -nan -nan -nan -nan -nan -nan -nan -nan -nan -nan -nan -nan -nan -nan -nan -nan -nan -nan -nan -nan -nan -nan -nan -nan -nan -nan -nan -nan -nan -nan -nan -nan -nan -nan -nan -nan -nan -nan -nan -nan -nan -nan -nan -nan -nan -nan -nan -nan -nan -nan -nan -nan -nan -nan -nan -nan -nan -nan -nan -nan -nan -nan -nan -nan -nan -nan -nan -nan -nan -nan -nan -nan -nan -nan -nan -nan -nan -nan -nan -nan -nan -nan -nan -nan -nan -nan -nan -nan -nan -nan -nan -nan -nan -nan -nan -nan -nan -nan -nan -nan -nan -nan -nan -nan -nan -nan -nan -nan -nan -nan -nan -nan -nan -nan -nan -nan -nan -nan -nan -nan -nan -nan -nan -nan -nan -nan -nan -nan -nan -nan -nan -nan -nan -nan -nan  inf\\n'"
      ]
     },
     "metadata": {},
     "output_type": "display_data"
    }
   ],
   "source": [
    "correr_algoritmo(\"chico\", \"LU\", 100, 1e-10)"
   ]
  }
 ],
 "metadata": {
  "kernelspec": {
   "display_name": "Python 3",
   "language": "python",
   "name": "python3"
  },
  "language_info": {
   "codemirror_mode": {
    "name": "ipython",
    "version": 3
   },
   "file_extension": ".py",
   "mimetype": "text/x-python",
   "name": "python",
   "nbconvert_exporter": "python",
   "pygments_lexer": "ipython3",
   "version": "3.11.3"
  },
  "orig_nbformat": 4
 },
 "nbformat": 4,
 "nbformat_minor": 2
}
