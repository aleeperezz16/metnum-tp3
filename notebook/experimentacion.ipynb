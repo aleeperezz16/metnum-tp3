{
 "cells": [
  {
   "attachments": {},
   "cell_type": "markdown",
   "metadata": {},
   "source": [
    "# Experimentación métodos iterativos"
   ]
  },
  {
   "cell_type": "code",
   "execution_count": 37,
   "metadata": {},
   "outputs": [],
   "source": [
    "import os\n",
    "import csv\n",
    "import numpy as np\n",
    "import subprocess as sp"
   ]
  },
  {
   "cell_type": "code",
   "execution_count": 130,
   "metadata": {},
   "outputs": [],
   "source": [
    "dir = \"../data\"\n",
    "\n",
    "def generar_sistema(low, high, tam):\n",
    "    #A = np.random.randint(low, high, (tam, tam))\n",
    "    #x = np.random.randint(low, high, tam)\n",
    "    A = np.array([[1, 2, -2], [1, 1, 1], [2, 2, 1]])\n",
    "    x = np.array([6, -4, -3])\n",
    "    b = A @ x\n",
    "\n",
    "    if not os.path.exists(dir):\n",
    "        os.makedirs(dir)\n",
    "\n",
    "    with open(f\"{dir}/sistema.txt\", \"w\") as archivo:\n",
    "        writer = csv.writer(archivo, delimiter=\" \")\n",
    "        writer.writerow([tam])\n",
    "        for fila in A:\n",
    "            writer.writerow([item for item in fila])\n",
    "        for elem in x:\n",
    "            writer.writerow([elem])\n",
    "        for elem in b:\n",
    "            writer.writerow([elem])"
   ]
  },
  {
   "cell_type": "code",
   "execution_count": 131,
   "metadata": {},
   "outputs": [],
   "source": [
    "generar_sistema(-100, 100, 3)"
   ]
  },
  {
   "cell_type": "code",
   "execution_count": 156,
   "metadata": {},
   "outputs": [],
   "source": [
    "def correr_algoritmo(metodo, iteraciones, error):\n",
    "    proceso = sp.run([\"../src/iterativo\", \"../data/sistema.txt\", metodo, str(iteraciones), str(error)], capture_output=True, text=True)\n",
    "    proceso.check_returncode()\n",
    "\n",
    "    print(proceso.stderr)\n",
    "    print(proceso.stdout)"
   ]
  },
  {
   "cell_type": "code",
   "execution_count": 169,
   "metadata": {},
   "outputs": [
    {
     "name": "stdout",
     "output_type": "stream",
     "text": [
      "El metodo diverge a la solucion\n",
      "\n",
      "Tiempo: 0.072517\n",
      "Solucion:  89.8082 -102.073  25.5296\n",
      "\n"
     ]
    }
   ],
   "source": [
    "correr_algoritmo(\"GSS\", 10, 50)"
   ]
  }
 ],
 "metadata": {
  "kernelspec": {
   "display_name": "Python 3",
   "language": "python",
   "name": "python3"
  },
  "language_info": {
   "codemirror_mode": {
    "name": "ipython",
    "version": 3
   },
   "file_extension": ".py",
   "mimetype": "text/x-python",
   "name": "python",
   "nbconvert_exporter": "python",
   "pygments_lexer": "ipython3",
   "version": "3.11.3"
  },
  "orig_nbformat": 4
 },
 "nbformat": 4,
 "nbformat_minor": 2
}
